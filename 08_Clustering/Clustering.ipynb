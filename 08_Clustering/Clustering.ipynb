{
  "nbformat": 4,
  "nbformat_minor": 0,
  "metadata": {
    "orig_nbformat": 2,
    "kernelspec": {
      "name": "python3",
      "display_name": "Python 3"
    },
    "colab": {
      "name": "hw9_unsupervised_stark.ipynb",
      "provenance": [],
      "collapsed_sections": []
    },
    "accelerator": "GPU",
    "language_info": {
      "name": "python"
    }
  },
  "cells": [
    {
      "cell_type": "markdown",
      "metadata": {
        "id": "JhUy3DepqqLH"
      },
      "source": [
        "# Homework 9: Unsupervised Learning"
      ]
    },
    {
      "cell_type": "markdown",
      "metadata": {
        "id": "cux3IkLLqqLQ"
      },
      "source": [
        "## Download the Dataset"
      ]
    },
    {
      "cell_type": "code",
      "metadata": {
        "colab": {
          "base_uri": "https://localhost:8080/"
        },
        "id": "uXNtAbXWqqLS",
        "outputId": "ca3e312d-7ce4-4c76-bb3f-694d53a28f1f"
      },
      "source": [
        "!gdown --id '1BZb2AqOHHaad7Mo82St1qTBaXo_xtcUc' --output trainX.npy \n",
        "!gdown --id '152NKCpj8S_zuIx3bQy0NN5oqpvBjdPIq' --output valX.npy \n",
        "!gdown --id '1_hRGsFtm5KEazUg2ZvPZcuNScGF-ANh4' --output valY.npy \n",
        "!mkdir checkpoints\n",
        "!ls"
      ],
      "execution_count": 1,
      "outputs": [
        {
          "output_type": "stream",
          "text": [
            "Downloading...\n",
            "From: https://drive.google.com/uc?id=1BZb2AqOHHaad7Mo82St1qTBaXo_xtcUc\n",
            "To: /content/trainX.npy\n",
            "26.1MB [00:01, 24.5MB/s]\n",
            "Downloading...\n",
            "From: https://drive.google.com/uc?id=152NKCpj8S_zuIx3bQy0NN5oqpvBjdPIq\n",
            "To: /content/valX.npy\n",
            "100% 1.54M/1.54M [00:00<00:00, 94.8MB/s]\n",
            "Downloading...\n",
            "From: https://drive.google.com/uc?id=1_hRGsFtm5KEazUg2ZvPZcuNScGF-ANh4\n",
            "To: /content/valY.npy\n",
            "100% 4.13k/4.13k [00:00<00:00, 6.90MB/s]\n",
            "mkdir: cannot create directory ‘checkpoints’: File exists\n",
            "checkpoints\tprediction_invert.csv  trainX.npy  valY.npy\n",
            "prediction.csv\tsample_data\t       valX.npy\n"
          ],
          "name": "stdout"
        }
      ]
    },
    {
      "cell_type": "markdown",
      "metadata": {
        "id": "Jk-f5JwGqqLS"
      },
      "source": [
        "## Prepare the Training Data"
      ]
    },
    {
      "cell_type": "markdown",
      "metadata": {
        "id": "Z1OI4B52qqLT"
      },
      "source": [
        "- Since the original image pixel is in the range of 0 ~ 255 as `int`, we need to transform it into the range of -1 ~ 1 as `float`."
      ]
    },
    {
      "cell_type": "code",
      "metadata": {
        "id": "H9eVvGEsqqLT"
      },
      "source": [
        "import numpy as np\n",
        "\n",
        "def preprocess(image_list):\n",
        "    \"\"\"Normalize the image and permute it from (N, H, W, C) to (N, C, H, W).\n",
        "    Args:\n",
        "        image_list: list of images (9000, 32, 32, 3)\n",
        "    Returns:\n",
        "        image_list: list of images (9000, 3, 32, 32)\n",
        "    \"\"\"\n",
        "    image_list = np.array(image_list)\n",
        "    image_list = np.transpose(image_list, (0, 3, 1, 2))\n",
        "    image_list = (image_list / 255.0) * 2 - 1\n",
        "    image_list = image_list.astype(np.float32)\n",
        "    return image_list"
      ],
      "execution_count": 2,
      "outputs": []
    },
    {
      "cell_type": "code",
      "metadata": {
        "id": "0XWmcCO_qqLU"
      },
      "source": [
        "from torch.utils.data import Dataset\n",
        "\n",
        "class ImgDataset(Dataset):\n",
        "    def __init__(self, image_list):\n",
        "        self.image_list = image_list\n",
        "    def __len__(self):\n",
        "        return len(self.image_list)\n",
        "    def __getitem__(self, idx):\n",
        "        image = self.image_list[idx]\n",
        "        return image"
      ],
      "execution_count": 3,
      "outputs": []
    },
    {
      "cell_type": "markdown",
      "metadata": {
        "id": "spwumrIRqqLU"
      },
      "source": [
        "- Preprocess the training data.\n",
        "- Do not use validation set as training data."
      ]
    },
    {
      "cell_type": "code",
      "metadata": {
        "id": "epEScwIXqqLU"
      },
      "source": [
        "from torch.utils.data import DataLoader\n",
        "\n",
        "trainX = np.load('trainX.npy')\n",
        "trainX_preprecessed = preprocess(trainX)\n",
        "img_dataset = ImgDataset(trainX_preprecessed)"
      ],
      "execution_count": 4,
      "outputs": []
    },
    {
      "cell_type": "markdown",
      "metadata": {
        "id": "L2DGoEcrqqLV"
      },
      "source": [
        "## Some Useful Functions\n",
        "- Compute the number of parameters.\n",
        "- Fix the random seed."
      ]
    },
    {
      "cell_type": "code",
      "metadata": {
        "id": "ZZxrS6WhqqLV"
      },
      "source": [
        "import random\n",
        "import torch\n",
        "\n",
        "def count_parameters(model, only_trainable=False):\n",
        "    if only_trainable:\n",
        "        return sum(p.numel() for p in model.parameters() if p.requires_grad)\n",
        "    else:\n",
        "        return sum(p.numel() for p in model.parameters())\n",
        "\n",
        "def same_seeds(seed):\n",
        "    torch.manual_seed(seed)\n",
        "    if torch.cuda.is_available():\n",
        "        torch.cuda.manual_seed(seed)\n",
        "        torch.cuda.manual_seed_all(seed) # if using multi-GPU\n",
        "    np.random.seed(seed) # Numpy module\n",
        "    random.seed(seed)\n",
        "    torch.backends.cudnn.benchmark = False\n",
        "    torch.backends.cudnn.deterministic = True"
      ],
      "execution_count": 5,
      "outputs": []
    },
    {
      "cell_type": "markdown",
      "metadata": {
        "id": "mYH1obOfqqLV"
      },
      "source": [
        "## Build the Model\n",
        "- For more information about `nn.ConvTranspose2d`, please refer to https://blog.csdn.net/qq_27261889/article/details/86304061."
      ]
    },
    {
      "cell_type": "code",
      "metadata": {
        "id": "u04U27J0qqLW"
      },
      "source": [
        "import torch.nn as nn\n",
        "\n",
        "class AutoEncoder(nn.Module):\n",
        "    def __init__(self):\n",
        "        super(AutoEncoder, self).__init__()\n",
        "\n",
        "        self.encoder = nn.Sequential(\n",
        "            nn.Conv2d(3, 64, 3, stride=1, padding=1),\n",
        "            nn.ReLU(True),\n",
        "            nn.MaxPool2d(2),\n",
        "            nn.Conv2d(64, 128, 3, stride=1, padding=1),\n",
        "            nn.ReLU(True),\n",
        "            nn.MaxPool2d(2),\n",
        "            nn.Conv2d(128, 256, 3, stride=1, padding=1),\n",
        "            nn.ReLU(True),\n",
        "            nn.MaxPool2d(2)\n",
        "        )\n",
        "\n",
        "        self.decoder = nn.Sequential(\n",
        "            nn.ConvTranspose2d(256, 128, 5, stride=1),\n",
        "            nn.ReLU(True),\n",
        "            nn.ConvTranspose2d(128, 64, 9, stride=1),\n",
        "            nn.ReLU(True),\n",
        "            nn.ConvTranspose2d(64, 3, 17, stride=1),\n",
        "            nn.Tanh()\n",
        "        )\n",
        "\n",
        "    def forward(self, x):\n",
        "        x1 = self.encoder(x)\n",
        "        x = self.decoder(x1)\n",
        "        return x1, x"
      ],
      "execution_count": 6,
      "outputs": []
    },
    {
      "cell_type": "code",
      "metadata": {
        "colab": {
          "base_uri": "https://localhost:8080/"
        },
        "id": "Nq-61OUaqqLW",
        "outputId": "e5ddf5ea-30bb-4e41-9b94-c5db48f1ed92"
      },
      "source": [
        "!nvidia-smi"
      ],
      "execution_count": 7,
      "outputs": [
        {
          "output_type": "stream",
          "text": [
            "Wed Apr  7 16:28:48 2021       \n",
            "+-----------------------------------------------------------------------------+\n",
            "| NVIDIA-SMI 460.67       Driver Version: 460.32.03    CUDA Version: 11.2     |\n",
            "|-------------------------------+----------------------+----------------------+\n",
            "| GPU  Name        Persistence-M| Bus-Id        Disp.A | Volatile Uncorr. ECC |\n",
            "| Fan  Temp  Perf  Pwr:Usage/Cap|         Memory-Usage | GPU-Util  Compute M. |\n",
            "|                               |                      |               MIG M. |\n",
            "|===============================+======================+======================|\n",
            "|   0  Tesla K80           Off  | 00000000:00:04.0 Off |                    0 |\n",
            "| N/A   47C    P8    28W / 149W |      0MiB / 11441MiB |      0%      Default |\n",
            "|                               |                      |                  N/A |\n",
            "+-------------------------------+----------------------+----------------------+\n",
            "                                                                               \n",
            "+-----------------------------------------------------------------------------+\n",
            "| Processes:                                                                  |\n",
            "|  GPU   GI   CI        PID   Type   Process name                  GPU Memory |\n",
            "|        ID   ID                                                   Usage      |\n",
            "|=============================================================================|\n",
            "|  No running processes found                                                 |\n",
            "+-----------------------------------------------------------------------------+\n"
          ],
          "name": "stdout"
        }
      ]
    },
    {
      "cell_type": "markdown",
      "metadata": {
        "id": "KbvgBCxIqqLW"
      },
      "source": [
        "## Training\n",
        "- Before training, we need to define the dataloader, model, loss criterion, and optimizer.\n",
        "- While finish training, we will save the model.\n",
        "- For more infomation about gradient descent, please refer to https://meetonfriday.com/posts/18392404/."
      ]
    },
    {
      "cell_type": "code",
      "metadata": {
        "colab": {
          "base_uri": "https://localhost:8080/"
        },
        "id": "znqU7JB0qqLX",
        "outputId": "f489ca5e-8f9e-46a8-b8f1-063b31eab5a0"
      },
      "source": [
        "import torch\n",
        "from torch import optim\n",
        "\n",
        "same_seeds(0)\n",
        "\n",
        "model = AutoEncoder().cuda()\n",
        "criterion = nn.MSELoss()\n",
        "optimizer = torch.optim.Adam(model.parameters(), lr=1e-5, weight_decay=1e-5)\n",
        "\n",
        "model.train()\n",
        "n_epoch = 100\n",
        "\n",
        "img_dataloader = DataLoader(img_dataset, batch_size=64, shuffle=True)\n",
        "\n",
        "epoch_loss = 0\n",
        "\n",
        "# start training\n",
        "for epoch in range(n_epoch):\n",
        "    epoch_loss = 0\n",
        "    for data in img_dataloader:\n",
        "        img = data\n",
        "        img = img.cuda()\n",
        "\n",
        "        output1, output = model(img)\n",
        "        loss = criterion(output, img)\n",
        "\n",
        "        optimizer.zero_grad()\n",
        "        loss.backward()\n",
        "        optimizer.step()\n",
        "\n",
        "        if (epoch + 1) % 10 == 0:\n",
        "            torch.save(model.state_dict(), './checkpoints/checkpoint_{}.pth'.format(epoch + 1))\n",
        "\n",
        "        epoch_loss += loss.item()\n",
        "\n",
        "    print('epoch [{}/{}], loss: {:.5f}'.format(epoch + 1, n_epoch, epoch_loss))\n",
        "\n",
        "# save the model\n",
        "torch.save(model.state_dict(), './checkpoints/last_checkpoint.pth')"
      ],
      "execution_count": 8,
      "outputs": [
        {
          "output_type": "stream",
          "text": [
            "epoch [1/100], loss: 30.19018\n",
            "epoch [2/100], loss: 24.44940\n",
            "epoch [3/100], loss: 20.23422\n",
            "epoch [4/100], loss: 17.27658\n",
            "epoch [5/100], loss: 15.51933\n",
            "epoch [6/100], loss: 14.44461\n",
            "epoch [7/100], loss: 13.72389\n",
            "epoch [8/100], loss: 13.17549\n",
            "epoch [9/100], loss: 12.74007\n",
            "epoch [10/100], loss: 12.35751\n",
            "epoch [11/100], loss: 12.03476\n",
            "epoch [12/100], loss: 11.73938\n",
            "epoch [13/100], loss: 11.47719\n",
            "epoch [14/100], loss: 11.26272\n",
            "epoch [15/100], loss: 11.06144\n",
            "epoch [16/100], loss: 10.85637\n",
            "epoch [17/100], loss: 10.69261\n",
            "epoch [18/100], loss: 10.53817\n",
            "epoch [19/100], loss: 10.37384\n",
            "epoch [20/100], loss: 10.22461\n",
            "epoch [21/100], loss: 10.08562\n",
            "epoch [22/100], loss: 9.94499\n",
            "epoch [23/100], loss: 9.82891\n",
            "epoch [24/100], loss: 9.70549\n",
            "epoch [25/100], loss: 9.60000\n",
            "epoch [26/100], loss: 9.48306\n",
            "epoch [27/100], loss: 9.38645\n",
            "epoch [28/100], loss: 9.27681\n",
            "epoch [29/100], loss: 9.18420\n",
            "epoch [30/100], loss: 9.10486\n",
            "epoch [31/100], loss: 9.01650\n",
            "epoch [32/100], loss: 8.93085\n",
            "epoch [33/100], loss: 8.84819\n",
            "epoch [34/100], loss: 8.76964\n",
            "epoch [35/100], loss: 8.70761\n",
            "epoch [36/100], loss: 8.63394\n",
            "epoch [37/100], loss: 8.56759\n",
            "epoch [38/100], loss: 8.49874\n",
            "epoch [39/100], loss: 8.42661\n",
            "epoch [40/100], loss: 8.37626\n",
            "epoch [41/100], loss: 8.31156\n",
            "epoch [42/100], loss: 8.25819\n",
            "epoch [43/100], loss: 8.19672\n",
            "epoch [44/100], loss: 8.14090\n",
            "epoch [45/100], loss: 8.08615\n",
            "epoch [46/100], loss: 8.03809\n",
            "epoch [47/100], loss: 7.98555\n",
            "epoch [48/100], loss: 7.93289\n",
            "epoch [49/100], loss: 7.88859\n",
            "epoch [50/100], loss: 7.83698\n",
            "epoch [51/100], loss: 7.78772\n",
            "epoch [52/100], loss: 7.75537\n",
            "epoch [53/100], loss: 7.70076\n",
            "epoch [54/100], loss: 7.66230\n",
            "epoch [55/100], loss: 7.62209\n",
            "epoch [56/100], loss: 7.57851\n",
            "epoch [57/100], loss: 7.53329\n",
            "epoch [58/100], loss: 7.49746\n",
            "epoch [59/100], loss: 7.46626\n",
            "epoch [60/100], loss: 7.42073\n",
            "epoch [61/100], loss: 7.38693\n",
            "epoch [62/100], loss: 7.34357\n",
            "epoch [63/100], loss: 7.31486\n",
            "epoch [64/100], loss: 7.28487\n",
            "epoch [65/100], loss: 7.24441\n",
            "epoch [66/100], loss: 7.20337\n",
            "epoch [67/100], loss: 7.17839\n",
            "epoch [68/100], loss: 7.14777\n",
            "epoch [69/100], loss: 7.11033\n",
            "epoch [70/100], loss: 7.08532\n",
            "epoch [71/100], loss: 7.05087\n",
            "epoch [72/100], loss: 7.01709\n",
            "epoch [73/100], loss: 6.99197\n",
            "epoch [74/100], loss: 6.95443\n",
            "epoch [75/100], loss: 6.92928\n",
            "epoch [76/100], loss: 6.90295\n",
            "epoch [77/100], loss: 6.86782\n",
            "epoch [78/100], loss: 6.84114\n",
            "epoch [79/100], loss: 6.81173\n",
            "epoch [80/100], loss: 6.78600\n",
            "epoch [81/100], loss: 6.75575\n",
            "epoch [82/100], loss: 6.73393\n",
            "epoch [83/100], loss: 6.70743\n",
            "epoch [84/100], loss: 6.67764\n",
            "epoch [85/100], loss: 6.65298\n",
            "epoch [86/100], loss: 6.62724\n",
            "epoch [87/100], loss: 6.60165\n",
            "epoch [88/100], loss: 6.57925\n",
            "epoch [89/100], loss: 6.55937\n",
            "epoch [90/100], loss: 6.52793\n",
            "epoch [91/100], loss: 6.51036\n",
            "epoch [92/100], loss: 6.48285\n",
            "epoch [93/100], loss: 6.45914\n",
            "epoch [94/100], loss: 6.43575\n",
            "epoch [95/100], loss: 6.41010\n",
            "epoch [96/100], loss: 6.38944\n",
            "epoch [97/100], loss: 6.36579\n",
            "epoch [98/100], loss: 6.34982\n",
            "epoch [99/100], loss: 6.32367\n",
            "epoch [100/100], loss: 6.30324\n"
          ],
          "name": "stdout"
        }
      ]
    },
    {
      "cell_type": "markdown",
      "metadata": {
        "id": "t5swrC6EqqLX"
      },
      "source": [
        "## Dimensionality Reduction and Clustering"
      ]
    },
    {
      "cell_type": "code",
      "metadata": {
        "id": "-dQprJ3iqqLY"
      },
      "source": [
        "import numpy as np\n",
        "\n",
        "def cal_acc(gt, pred):\n",
        "    \"\"\"Compute the categorization accuracy of our task.\n",
        "    Args:\n",
        "        gt: Ground truth labels (9000, )\n",
        "        pred: Predicted labels (9000, )\n",
        "    Returns:\n",
        "        acc: Accuracy (0~1 scalar)\n",
        "    \"\"\"\n",
        "    # calculate the number of correct predictions and accuracy\n",
        "    correct = np.sum(gt == pred)\n",
        "    acc = correct / gt.shape[0]\n",
        "\n",
        "    # since it's a binary unsupervised learning clustering --> max(acc, 1 - acc)\n",
        "    return max(acc, 1 - acc)"
      ],
      "execution_count": 9,
      "outputs": []
    },
    {
      "cell_type": "code",
      "metadata": {
        "id": "aSdTlpHMqqLY"
      },
      "source": [
        "import matplotlib.pyplot as plt\n",
        "\n",
        "def plot_scatter(feat, label, savefig=None):\n",
        "    \"\"\"Plot the scatter plot.\n",
        "    Args:\n",
        "        feat: the (x, y) coordinates of clustering result, shape: (9000, 2)\n",
        "        label: the ground truth label of image (0/1), shape: (9000, )\n",
        "    Returns:\n",
        "        None\n",
        "    \"\"\"\n",
        "    X = feat[:, 0]\n",
        "    Y = feat[:, 1]\n",
        "    plt.scatter(X, Y, c=label)\n",
        "    plt.legend(loc='best')\n",
        "    if savefig is not None:\n",
        "        plt.savefig(savefig)\n",
        "    plt.show()\n",
        "    return"
      ],
      "execution_count": 10,
      "outputs": []
    },
    {
      "cell_type": "markdown",
      "metadata": {
        "id": "HD1TCAwWqqLZ"
      },
      "source": [
        "- Now, we are going to using the trained model to predict the category of the testing data.\n",
        "- Since the testing dataset is the same as the training dataset, we will wrap the same dataset as DataLoader.\n",
        "- The difference between training is that we set `shuffle=False` while testing.\n",
        "- After preparing the model and dataloader, we are ready to perform testing.\n",
        "- We only need the latent vector from encoder, then do clustering on the latent."
      ]
    },
    {
      "cell_type": "code",
      "metadata": {
        "colab": {
          "base_uri": "https://localhost:8080/"
        },
        "id": "o36rvICKqqLZ",
        "outputId": "53b47bfb-20dc-425f-ba69-1c6a2e5687c6"
      },
      "source": [
        "import torch\n",
        "from sklearn.decomposition import KernelPCA\n",
        "from sklearn.manifold import TSNE\n",
        "from sklearn.cluster import MiniBatchKMeans\n",
        "\n",
        "def inference(X, model, batch_size=256):\n",
        "    \"\"\"Get the latent vector from decoder.\n",
        "    Args:\n",
        "        X: the testing dataset.\n",
        "        model: the trained model.\n",
        "        batch_size: the batch size.\n",
        "    Returns:\n",
        "        latents: the latent vector of testing dataset.\n",
        "    \"\"\"\n",
        "    X = preprocess(X)\n",
        "    dataset = ImgDataset(X)\n",
        "    dataloader = DataLoader(dataset, batch_size=batch_size, shuffle=False)\n",
        "    latents = []\n",
        "\n",
        "    for i, x in enumerate(dataloader):\n",
        "        x = torch.FloatTensor(x)\n",
        "        vec, img = model(x.cuda())\n",
        "        if i == 0:\n",
        "            latents = vec.view(img.size()[0], -1).cpu().detach().numpy()\n",
        "        else:\n",
        "            latents = np.concatenate((latents, vec.view(img.size()[0], -1).cpu().detach().numpy()), axis=0)\n",
        "    print('Latent Shape: ', latents.shape)\n",
        "    return latents\n",
        "\n",
        "def predict(latents):\n",
        "    \"\"\"Perform dimensionality reduction and clustering.\n",
        "    Args:\n",
        "        latents: the latent vector from encoder.\n",
        "    Returns:\n",
        "        pred: the predicted cluster.\n",
        "        X_embedded: the result after dimensionality reduction.\n",
        "    \"\"\"\n",
        "    # 1st dimensionality reduction\n",
        "    transformer = KernelPCA(n_components=200, kernel='rbf', n_jobs=-1)\n",
        "    kpca = transformer.fit_transform(latents)\n",
        "    print('First Reduction Shape: ', kpca.shape)\n",
        "\n",
        "    # 2nd dimensionality reduction\n",
        "    X_embedded = TSNE(n_components=2).fit_transform(kpca)\n",
        "    print('Second Reduction Shape: ', X_embedded.shape)\n",
        "\n",
        "    # Clustering\n",
        "    pred = MiniBatchKMeans(n_clusters=2, random_state=0).fit(X_embedded)\n",
        "    pred = [int(i) for i in pred.labels_]\n",
        "    pred = np.array(pred)\n",
        "    return pred, X_embedded\n",
        "\n",
        "def invert(pred):\n",
        "    return np.abs(1-pred)\n",
        "\n",
        "def save_prediction(pred, out_csv='prediction.csv'):\n",
        "    with open(out_csv, 'w') as f:\n",
        "        f.write('id,label\\n')\n",
        "        for i, p in enumerate(pred):\n",
        "            f.write(f'{i},{p}\\n')\n",
        "        print(f'Save prediction to {out_csv}.')\n",
        "\n",
        "# load model\n",
        "model = AutoEncoder().cuda()\n",
        "model.load_state_dict(torch.load('./checkpoints/last_checkpoint.pth'))\n",
        "model.eval()\n",
        "\n",
        "# prepare testing data\n",
        "trainX = np.load('trainX.npy')\n",
        "\n",
        "# predict the result\n",
        "latents = inference(X=trainX, model=model)\n",
        "pred, X_embedded = predict(latents)\n",
        "\n",
        "# save the result\n",
        "save_prediction(pred, 'prediction.csv')\n",
        "\n",
        "# We are doing the unsupervised binary classification problem, so the only thing we care about is if we classify the images into 2 categories successfully.\n",
        "# If the accuracy on Kaggle is less than 0.5, then we just invert the labels.\n",
        "save_prediction(invert(pred), 'prediction_invert.csv')"
      ],
      "execution_count": 11,
      "outputs": [
        {
          "output_type": "stream",
          "text": [
            "Latent Shape:  (8500, 4096)\n"
          ],
          "name": "stdout"
        },
        {
          "output_type": "stream",
          "text": [
            "/usr/local/lib/python3.7/dist-packages/sklearn/utils/extmath.py:530: RuntimeWarning: invalid value encountered in multiply\n",
            "  v *= signs[:, np.newaxis]\n"
          ],
          "name": "stderr"
        },
        {
          "output_type": "stream",
          "text": [
            "First Reduction Shape:  (8500, 200)\n",
            "Second Reduction Shape:  (8500, 2)\n",
            "Save prediction to prediction.csv.\n",
            "Save prediction to prediction_invert.csv.\n"
          ],
          "name": "stdout"
        }
      ]
    },
    {
      "cell_type": "markdown",
      "metadata": {
        "id": "B1UJaordqqLa"
      },
      "source": [
        "## Problem 1.b (Plot)\n",
        "- Plot the result of validation dataset after dimension reduction and their corresponding labels."
      ]
    },
    {
      "cell_type": "code",
      "metadata": {
        "colab": {
          "base_uri": "https://localhost:8080/",
          "height": 373
        },
        "id": "v5zq3_qzqqLa",
        "outputId": "2ccb160b-cc9d-4bc1-e5c4-f3f013778cdd"
      },
      "source": [
        "valX = np.load('valX.npy')\n",
        "valY = np.load('valY.npy')\n",
        "\n",
        "model.load_state_dict(torch.load('./checkpoints/last_checkpoint.pth'))\n",
        "model.eval()\n",
        "latents = inference(valX, model)\n",
        "pred_from_latent, emb_from_latent = predict(latents)\n",
        "acc_latent = cal_acc(valY, pred_from_latent)\n",
        "print('The clustering accuracy is: ', acc_latent)\n",
        "print('The clustering result:')\n",
        "plot_scatter(emb_from_latent, valY, savefig='p1_baseline.png')"
      ],
      "execution_count": 12,
      "outputs": [
        {
          "output_type": "stream",
          "text": [
            "Latent Shape:  (500, 4096)\n",
            "First Reduction Shape:  (500, 200)\n"
          ],
          "name": "stdout"
        },
        {
          "output_type": "stream",
          "text": [
            "No handles with labels found to put in legend.\n"
          ],
          "name": "stderr"
        },
        {
          "output_type": "stream",
          "text": [
            "Second Reduction Shape:  (500, 2)\n",
            "The clustering accuracy is:  0.744\n",
            "The clustering result:\n"
          ],
          "name": "stdout"
        },
        {
          "output_type": "display_data",
          "data": {
            "image/png": "[encoded data removed]",
            "text/plain": [
              "<Figure size 432x288 with 1 Axes>"
            ]
          },
          "metadata": {
            "tags": [],
            "needs_background": "light"
          }
        }
      ]
    },
    {
      "cell_type": "markdown",
      "metadata": {
        "id": "o3Zv0KmiqqLb"
      },
      "source": [
        "## Problem 2\n",
        "- Plot the original and reconstructed images based on the highest test accuracy of AutoEncoder.\n",
        "- From trainX, we extract images with the indices 1, 2, 3, 6, 7, 9."
      ]
    },
    {
      "cell_type": "code",
      "metadata": {
        "colab": {
          "base_uri": "https://localhost:8080/",
          "height": 269
        },
        "id": "VoLzjUZ4qqLb",
        "outputId": "07358fb3-3a65-4a9a-ba9e-188abc7de294"
      },
      "source": [
        "import matplotlib.pyplot as plt\n",
        "import numpy as np\n",
        "\n",
        "# draw the oringal image\n",
        "plt.figure(figsize=(10, 4))\n",
        "indices = [1, 2, 3, 6, 7, 9]\n",
        "imgs = trainX[indices, ]\n",
        "for i, img in enumerate(imgs):\n",
        "    plt.subplot(2, 6, i + 1, xticks=[], yticks=[])\n",
        "    plt.imshow(img)\n",
        "\n",
        "# draw the reconstructed image\n",
        "inp = torch.Tensor(trainX_preprecessed[indices, ]).cuda()\n",
        "latents, recs = model(inp)\n",
        "recs = ((recs + 1) / 2).cpu().detach().numpy()\n",
        "recs = recs.transpose(0, 2, 3, 1)\n",
        "for i, img in enumerate(recs):\n",
        "    plt.subplot(2, 6, 6 + i + 1, xticks=[], yticks=[])\n",
        "    plt.imshow(img)\n",
        "\n",
        "plt.tight_layout()"
      ],
      "execution_count": 13,
      "outputs": [
        {
          "output_type": "display_data",
          "data": {
            "image/png": "[encoded data removed]",
            "text/plain": [
              "<Figure size 720x288 with 12 Axes>"
            ]
          },
          "metadata": {
            "tags": []
          }
        }
      ]
    },
    {
      "cell_type": "markdown",
      "metadata": {
        "id": "wFakpmG7qqLb"
      },
      "source": [
        "## Problem 3\n",
        "- Take out 10 checkpoints from the AutoEncoder model training phase to plot the reconstruction error versus validation accuracy.\n",
        "- Explain what you see from the plot."
      ]
    },
    {
      "cell_type": "code",
      "metadata": {
        "colab": {
          "base_uri": "https://localhost:8080/"
        },
        "id": "ze1VTcCBqqLc",
        "outputId": "6efd1f3e-1cac-4c45-f0d4-9dfabbbaf69c"
      },
      "source": [
        "import os\n",
        "import glob\n",
        "\n",
        "checkpoints_list = sorted(glob.glob('checkpoints/checkpoint_*.pth'), key = lambda x: int(os.path.splitext(os.path.basename(x))[0].split('_')[-1]))\n",
        "\n",
        "# load the data\n",
        "dataset = ImgDataset(trainX_preprecessed)\n",
        "dataloader = DataLoader(dataset, batch_size=64, shuffle=False)\n",
        "\n",
        "# start prediction\n",
        "points = []\n",
        "with torch.no_grad():\n",
        "    for i, checkpoint in enumerate(checkpoints_list):\n",
        "        print('[{}/{}] {}'.format(i + 1, len(checkpoints_list), checkpoint))\n",
        "        model.load_state_dict(torch.load(checkpoint))\n",
        "        model.eval()\n",
        "        err = 0\n",
        "        n = 0\n",
        "        \n",
        "        for x in dataloader:\n",
        "            x = x.cuda()\n",
        "            _, rec = model(x)\n",
        "            err += torch.nn.MSELoss(reduction='sum')(x, rec).item()\n",
        "            n += x.flatten().size(0) # 64*32*32*3?\n",
        "        print('Reconstruction error (MSE): ', err/n)\n",
        "        latents = inference(X=valX, model=model) # get the latent code from autoencoder with the model checkpoint\n",
        "        pred, X_embedded = predict(latents)\n",
        "        acc = cal_acc(valY, pred)\n",
        "        print('Accuracy: ', acc)\n",
        "        points.append((err/n, acc))\n",
        "        print()"
      ],
      "execution_count": 16,
      "outputs": [
        {
          "output_type": "stream",
          "text": [
            "[1/10] checkpoints/checkpoint_10.pth\n",
            "Reconstruction error (MSE):  0.09170706113179525\n",
            "Latent Shape:  (500, 4096)\n",
            "First Reduction Shape:  (500, 200)\n",
            "Second Reduction Shape:  (500, 2)\n",
            "Accuracy:  0.514\n",
            "\n",
            "[2/10] checkpoints/checkpoint_20.pth\n",
            "Reconstruction error (MSE):  0.0763516991185207\n",
            "Latent Shape:  (500, 4096)\n"
          ],
          "name": "stdout"
        },
        {
          "output_type": "stream",
          "text": [
            "/usr/local/lib/python3.7/dist-packages/sklearn/utils/extmath.py:530: RuntimeWarning: invalid value encountered in multiply\n",
            "  v *= signs[:, np.newaxis]\n"
          ],
          "name": "stderr"
        },
        {
          "output_type": "stream",
          "text": [
            "First Reduction Shape:  (500, 200)\n",
            "Second Reduction Shape:  (500, 2)\n",
            "Accuracy:  0.686\n",
            "\n",
            "[3/10] checkpoints/checkpoint_30.pth\n",
            "Reconstruction error (MSE):  0.0685219929265041\n",
            "Latent Shape:  (500, 4096)\n"
          ],
          "name": "stdout"
        },
        {
          "output_type": "stream",
          "text": [
            "/usr/local/lib/python3.7/dist-packages/sklearn/utils/extmath.py:530: RuntimeWarning: invalid value encountered in multiply\n",
            "  v *= signs[:, np.newaxis]\n"
          ],
          "name": "stderr"
        },
        {
          "output_type": "stream",
          "text": [
            "First Reduction Shape:  (500, 200)\n",
            "Second Reduction Shape:  (500, 2)\n",
            "Accuracy:  0.752\n",
            "\n",
            "[4/10] checkpoints/checkpoint_40.pth\n",
            "Reconstruction error (MSE):  0.0625512975804946\n",
            "Latent Shape:  (500, 4096)\n"
          ],
          "name": "stdout"
        },
        {
          "output_type": "stream",
          "text": [
            "/usr/local/lib/python3.7/dist-packages/sklearn/utils/extmath.py:530: RuntimeWarning: invalid value encountered in multiply\n",
            "  v *= signs[:, np.newaxis]\n"
          ],
          "name": "stderr"
        },
        {
          "output_type": "stream",
          "text": [
            "First Reduction Shape:  (500, 200)\n",
            "Second Reduction Shape:  (500, 2)\n",
            "Accuracy:  0.506\n",
            "\n",
            "[5/10] checkpoints/checkpoint_50.pth\n",
            "Reconstruction error (MSE):  0.058623241985545436\n",
            "Latent Shape:  (500, 4096)\n",
            "First Reduction Shape:  (500, 200)\n",
            "Second Reduction Shape:  (500, 2)\n",
            "Accuracy:  0.716\n",
            "\n",
            "[6/10] checkpoints/checkpoint_60.pth\n",
            "Reconstruction error (MSE):  0.055566501692229625\n",
            "Latent Shape:  (500, 4096)\n"
          ],
          "name": "stdout"
        },
        {
          "output_type": "stream",
          "text": [
            "/usr/local/lib/python3.7/dist-packages/sklearn/utils/extmath.py:530: RuntimeWarning: invalid value encountered in multiply\n",
            "  v *= signs[:, np.newaxis]\n"
          ],
          "name": "stderr"
        },
        {
          "output_type": "stream",
          "text": [
            "First Reduction Shape:  (500, 200)\n",
            "Second Reduction Shape:  (500, 2)\n",
            "Accuracy:  0.698\n",
            "\n",
            "[7/10] checkpoints/checkpoint_70.pth\n",
            "Reconstruction error (MSE):  0.05300376256306966\n",
            "Latent Shape:  (500, 4096)\n",
            "First Reduction Shape:  (500, 200)\n",
            "Second Reduction Shape:  (500, 2)\n",
            "Accuracy:  0.678\n",
            "\n",
            "[8/10] checkpoints/checkpoint_80.pth\n",
            "Reconstruction error (MSE):  0.05087475208207673\n",
            "Latent Shape:  (500, 4096)\n",
            "First Reduction Shape:  (500, 200)\n",
            "Second Reduction Shape:  (500, 2)\n",
            "Accuracy:  0.744\n",
            "\n",
            "[9/10] checkpoints/checkpoint_90.pth\n",
            "Reconstruction error (MSE):  0.0490860133264579\n",
            "Latent Shape:  (500, 4096)\n",
            "First Reduction Shape:  (500, 200)\n",
            "Second Reduction Shape:  (500, 2)\n",
            "Accuracy:  0.658\n",
            "\n",
            "[10/10] checkpoints/checkpoint_100.pth\n",
            "Reconstruction error (MSE):  0.047653151886135926\n",
            "Latent Shape:  (500, 4096)\n",
            "First Reduction Shape:  (500, 200)\n",
            "Second Reduction Shape:  (500, 2)\n",
            "Accuracy:  0.678\n",
            "\n"
          ],
          "name": "stdout"
        }
      ]
    },
    {
      "cell_type": "code",
      "metadata": {
        "colab": {
          "base_uri": "https://localhost:8080/",
          "height": 390
        },
        "id": "J1ufaPYzqqLc",
        "outputId": "ada3b544-d219-4d7a-bf7d-fdbb45b35d1b"
      },
      "source": [
        "ps = list(zip(*points))\n",
        "plt.figure(figsize=(6, 6))\n",
        "plt.subplot(211, title='Reconstruction error (MSE)').plot(ps[0])\n",
        "plt.subplot(212, title='Accuracy (val)').plot(ps[1])\n",
        "plt.show()"
      ],
      "execution_count": 17,
      "outputs": [
        {
          "output_type": "display_data",
          "data": {
            "image/png": "[encoded data removed]",
            "text/plain": [
              "<Figure size 432x432 with 2 Axes>"
            ]
          },
          "metadata": {
            "tags": [],
            "needs_background": "light"
          }
        }
      ]
    }
  ]
}