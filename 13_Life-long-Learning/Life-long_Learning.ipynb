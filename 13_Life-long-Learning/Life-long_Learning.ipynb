{
  "nbformat": 4,
  "nbformat_minor": 0,
  "metadata": {
    "colab": {
      "name": "hw14_Life-long Learning_Stark.ipynb",
      "provenance": [],
      "collapsed_sections": []
    },
    "kernelspec": {
      "name": "python3",
      "display_name": "Python 3"
    },
    "language_info": {
      "name": "python"
    },
    "accelerator": "GPU",
    "widgets": {
      "application/vnd.jupyter.widget-state+json": {
        "484e39fec0f74422b0f72b4d2ecc06d0": {
          "model_module": "@jupyter-widgets/controls",
          "model_name": "HBoxModel",
          "state": {
            "_view_name": "HBoxView",
            "_dom_classes": [],
            "_model_name": "HBoxModel",
            "_view_module": "@jupyter-widgets/controls",
            "_model_module_version": "1.5.0",
            "_view_count": null,
            "_view_module_version": "1.5.0",
            "box_style": "",
            "layout": "IPY_MODEL_8334c3909dc04b2dba67854f26d53f95",
            "_model_module": "@jupyter-widgets/controls",
            "children": [
              "IPY_MODEL_a3afb4c106ac4bb2ba5cc0ae284f5c66",
              "IPY_MODEL_4dd9a804bb1640f8ac85f50b20ada6a5"
            ]
          }
        },
        "8334c3909dc04b2dba67854f26d53f95": {
          "model_module": "@jupyter-widgets/base",
          "model_name": "LayoutModel",
          "state": {
            "_view_name": "LayoutView",
            "grid_template_rows": null,
            "right": null,
            "justify_content": null,
            "_view_module": "@jupyter-widgets/base",
            "overflow": null,
            "_model_module_version": "1.2.0",
            "_view_count": null,
            "flex_flow": null,
            "width": null,
            "min_width": null,
            "border": null,
            "align_items": null,
            "bottom": null,
            "_model_module": "@jupyter-widgets/base",
            "top": null,
            "grid_column": null,
            "overflow_y": null,
            "overflow_x": null,
            "grid_auto_flow": null,
            "grid_area": null,
            "grid_template_columns": null,
            "flex": null,
            "_model_name": "LayoutModel",
            "justify_items": null,
            "grid_row": null,
            "max_height": null,
            "align_content": null,
            "visibility": null,
            "align_self": null,
            "height": null,
            "min_height": null,
            "padding": null,
            "grid_auto_rows": null,
            "grid_gap": null,
            "max_width": null,
            "order": null,
            "_view_module_version": "1.2.0",
            "grid_template_areas": null,
            "object_position": null,
            "object_fit": null,
            "grid_auto_columns": null,
            "margin": null,
            "display": null,
            "left": null
          }
        },
        "a3afb4c106ac4bb2ba5cc0ae284f5c66": {
          "model_module": "@jupyter-widgets/controls",
          "model_name": "FloatProgressModel",
          "state": {
            "_view_name": "ProgressView",
            "style": "IPY_MODEL_04244ed2754b4364a3ea3e618dfed292",
            "_dom_classes": [],
            "description": "",
            "_model_name": "FloatProgressModel",
            "bar_style": "success",
            "max": 9912422,
            "_view_module": "@jupyter-widgets/controls",
            "_model_module_version": "1.5.0",
            "value": 9912422,
            "_view_count": null,
            "_view_module_version": "1.5.0",
            "orientation": "horizontal",
            "min": 0,
            "description_tooltip": null,
            "_model_module": "@jupyter-widgets/controls",
            "layout": "IPY_MODEL_899fbbb83947484aa76e10c43602b08a"
          }
        },
        "4dd9a804bb1640f8ac85f50b20ada6a5": {
          "model_module": "@jupyter-widgets/controls",
          "model_name": "HTMLModel",
          "state": {
            "_view_name": "HTMLView",
            "style": "IPY_MODEL_e8e9ac6d8fe24605b4e92c27d159ad81",
            "_dom_classes": [],
            "description": "",
            "_model_name": "HTMLModel",
            "placeholder": "​",
            "_view_module": "@jupyter-widgets/controls",
            "_model_module_version": "1.5.0",
            "value": " 9913344/? [00:07&lt;00:00, 1346695.52it/s]",
            "_view_count": null,
            "_view_module_version": "1.5.0",
            "description_tooltip": null,
            "_model_module": "@jupyter-widgets/controls",
            "layout": "IPY_MODEL_bc998dd110ba46b683c8ed074794b9f7"
          }
        },
        "04244ed2754b4364a3ea3e618dfed292": {
          "model_module": "@jupyter-widgets/controls",
          "model_name": "ProgressStyleModel",
          "state": {
            "_view_name": "StyleView",
            "_model_name": "ProgressStyleModel",
            "description_width": "initial",
            "_view_module": "@jupyter-widgets/base",
            "_model_module_version": "1.5.0",
            "_view_count": null,
            "_view_module_version": "1.2.0",
            "bar_color": null,
            "_model_module": "@jupyter-widgets/controls"
          }
        },
        "899fbbb83947484aa76e10c43602b08a": {
          "model_module": "@jupyter-widgets/base",
          "model_name": "LayoutModel",
          "state": {
            "_view_name": "LayoutView",
            "grid_template_rows": null,
            "right": null,
            "justify_content": null,
            "_view_module": "@jupyter-widgets/base",
            "overflow": null,
            "_model_module_version": "1.2.0",
            "_view_count": null,
            "flex_flow": null,
            "width": null,
            "min_width": null,
            "border": null,
            "align_items": null,
            "bottom": null,
            "_model_module": "@jupyter-widgets/base",
            "top": null,
            "grid_column": null,
            "overflow_y": null,
            "overflow_x": null,
            "grid_auto_flow": null,
            "grid_area": null,
            "grid_template_columns": null,
            "flex": null,
            "_model_name": "LayoutModel",
            "justify_items": null,
            "grid_row": null,
            "max_height": null,
            "align_content": null,
            "visibility": null,
            "align_self": null,
            "height": null,
            "min_height": null,
            "padding": null,
            "grid_auto_rows": null,
            "grid_gap": null,
            "max_width": null,
            "order": null,
            "_view_module_version": "1.2.0",
            "grid_template_areas": null,
            "object_position": null,
            "object_fit": null,
            "grid_auto_columns": null,
            "margin": null,
            "display": null,
            "left": null
          }
        },
        "e8e9ac6d8fe24605b4e92c27d159ad81": {
          "model_module": "@jupyter-widgets/controls",
          "model_name": "DescriptionStyleModel",
          "state": {
            "_view_name": "StyleView",
            "_model_name": "DescriptionStyleModel",
            "description_width": "",
            "_view_module": "@jupyter-widgets/base",
            "_model_module_version": "1.5.0",
            "_view_count": null,
            "_view_module_version": "1.2.0",
            "_model_module": "@jupyter-widgets/controls"
          }
        },
        "bc998dd110ba46b683c8ed074794b9f7": {
          "model_module": "@jupyter-widgets/base",
          "model_name": "LayoutModel",
          "state": {
            "_view_name": "LayoutView",
            "grid_template_rows": null,
            "right": null,
            "justify_content": null,
            "_view_module": "@jupyter-widgets/base",
            "overflow": null,
            "_model_module_version": "1.2.0",
            "_view_count": null,
            "flex_flow": null,
            "width": null,
            "min_width": null,
            "border": null,
            "align_items": null,
            "bottom": null,
            "_model_module": "@jupyter-widgets/base",
            "top": null,
            "grid_column": null,
            "overflow_y": null,
            "overflow_x": null,
            "grid_auto_flow": null,
            "grid_area": null,
            "grid_template_columns": null,
            "flex": null,
            "_model_name": "LayoutModel",
            "justify_items": null,
            "grid_row": null,
            "max_height": null,
            "align_content": null,
            "visibility": null,
            "align_self": null,
            "height": null,
            "min_height": null,
            "padding": null,
            "grid_auto_rows": null,
            "grid_gap": null,
            "max_width": null,
            "order": null,
            "_view_module_version": "1.2.0",
            "grid_template_areas": null,
            "object_position": null,
            "object_fit": null,
            "grid_auto_columns": null,
            "margin": null,
            "display": null,
            "left": null
          }
        },
        "abded1f10fb642b29d5e48535d41b1f1": {
          "model_module": "@jupyter-widgets/controls",
          "model_name": "HBoxModel",
          "state": {
            "_view_name": "HBoxView",
            "_dom_classes": [],
            "_model_name": "HBoxModel",
            "_view_module": "@jupyter-widgets/controls",
            "_model_module_version": "1.5.0",
            "_view_count": null,
            "_view_module_version": "1.5.0",
            "box_style": "",
            "layout": "IPY_MODEL_241bf2d8d71a41e480e64518b7a7a9a3",
            "_model_module": "@jupyter-widgets/controls",
            "children": [
              "IPY_MODEL_bf684b82f67048c4b742909599efcb6b",
              "IPY_MODEL_a77e216715b14e5b9f78bfe128ce78a5"
            ]
          }
        },
        "241bf2d8d71a41e480e64518b7a7a9a3": {
          "model_module": "@jupyter-widgets/base",
          "model_name": "LayoutModel",
          "state": {
            "_view_name": "LayoutView",
            "grid_template_rows": null,
            "right": null,
            "justify_content": null,
            "_view_module": "@jupyter-widgets/base",
            "overflow": null,
            "_model_module_version": "1.2.0",
            "_view_count": null,
            "flex_flow": null,
            "width": null,
            "min_width": null,
            "border": null,
            "align_items": null,
            "bottom": null,
            "_model_module": "@jupyter-widgets/base",
            "top": null,
            "grid_column": null,
            "overflow_y": null,
            "overflow_x": null,
            "grid_auto_flow": null,
            "grid_area": null,
            "grid_template_columns": null,
            "flex": null,
            "_model_name": "LayoutModel",
            "justify_items": null,
            "grid_row": null,
            "max_height": null,
            "align_content": null,
            "visibility": null,
            "align_self": null,
            "height": null,
            "min_height": null,
            "padding": null,
            "grid_auto_rows": null,
            "grid_gap": null,
            "max_width": null,
            "order": null,
            "_view_module_version": "1.2.0",
            "grid_template_areas": null,
            "object_position": null,
            "object_fit": null,
            "grid_auto_columns": null,
            "margin": null,
            "display": null,
            "left": null
          }
        },
        "bf684b82f67048c4b742909599efcb6b": {
          "model_module": "@jupyter-widgets/controls",
          "model_name": "FloatProgressModel",
          "state": {
            "_view_name": "ProgressView",
            "style": "IPY_MODEL_0975dc20a54241f48e42d05b4589afb6",
            "_dom_classes": [],
            "description": "",
            "_model_name": "FloatProgressModel",
            "bar_style": "success",
            "max": 28881,
            "_view_module": "@jupyter-widgets/controls",
            "_model_module_version": "1.5.0",
            "value": 28881,
            "_view_count": null,
            "_view_module_version": "1.5.0",
            "orientation": "horizontal",
            "min": 0,
            "description_tooltip": null,
            "_model_module": "@jupyter-widgets/controls",
            "layout": "IPY_MODEL_aaa58902dc2d4e44a0cec4ce301f2d86"
          }
        },
        "a77e216715b14e5b9f78bfe128ce78a5": {
          "model_module": "@jupyter-widgets/controls",
          "model_name": "HTMLModel",
          "state": {
            "_view_name": "HTMLView",
            "style": "IPY_MODEL_e2da35eb3d2e465ebed4c55dfcce4596",
            "_dom_classes": [],
            "description": "",
            "_model_name": "HTMLModel",
            "placeholder": "​",
            "_view_module": "@jupyter-widgets/controls",
            "_model_module_version": "1.5.0",
            "value": " 29696/? [00:05&lt;00:00, 5336.88it/s]",
            "_view_count": null,
            "_view_module_version": "1.5.0",
            "description_tooltip": null,
            "_model_module": "@jupyter-widgets/controls",
            "layout": "IPY_MODEL_03cd0daae0024cc6ba27d86d4aafd7c0"
          }
        },
        "0975dc20a54241f48e42d05b4589afb6": {
          "model_module": "@jupyter-widgets/controls",
          "model_name": "ProgressStyleModel",
          "state": {
            "_view_name": "StyleView",
            "_model_name": "ProgressStyleModel",
            "description_width": "initial",
            "_view_module": "@jupyter-widgets/base",
            "_model_module_version": "1.5.0",
            "_view_count": null,
            "_view_module_version": "1.2.0",
            "bar_color": null,
            "_model_module": "@jupyter-widgets/controls"
          }
        },
        "aaa58902dc2d4e44a0cec4ce301f2d86": {
          "model_module": "@jupyter-widgets/base",
          "model_name": "LayoutModel",
          "state": {
            "_view_name": "LayoutView",
            "grid_template_rows": null,
            "right": null,
            "justify_content": null,
            "_view_module": "@jupyter-widgets/base",
            "overflow": null,
            "_model_module_version": "1.2.0",
            "_view_count": null,
            "flex_flow": null,
            "width": null,
            "min_width": null,
            "border": null,
            "align_items": null,
            "bottom": null,
            "_model_module": "@jupyter-widgets/base",
            "top": null,
            "grid_column": null,
            "overflow_y": null,
            "overflow_x": null,
            "grid_auto_flow": null,
            "grid_area": null,
            "grid_template_columns": null,
            "flex": null,
            "_model_name": "LayoutModel",
            "justify_items": null,
            "grid_row": null,
            "max_height": null,
            "align_content": null,
            "visibility": null,
            "align_self": null,
            "height": null,
            "min_height": null,
            "padding": null,
            "grid_auto_rows": null,
            "grid_gap": null,
            "max_width": null,
            "order": null,
            "_view_module_version": "1.2.0",
            "grid_template_areas": null,
            "object_position": null,
            "object_fit": null,
            "grid_auto_columns": null,
            "margin": null,
            "display": null,
            "left": null
          }
        },
        "e2da35eb3d2e465ebed4c55dfcce4596": {
          "model_module": "@jupyter-widgets/controls",
          "model_name": "DescriptionStyleModel",
          "state": {
            "_view_name": "StyleView",
            "_model_name": "DescriptionStyleModel",
            "description_width": "",
            "_view_module": "@jupyter-widgets/base",
            "_model_module_version": "1.5.0",
            "_view_count": null,
            "_view_module_version": "1.2.0",
            "_model_module": "@jupyter-widgets/controls"
          }
        },
        "03cd0daae0024cc6ba27d86d4aafd7c0": {
          "model_module": "@jupyter-widgets/base",
          "model_name": "LayoutModel",
          "state": {
            "_view_name": "LayoutView",
            "grid_template_rows": null,
            "right": null,
            "justify_content": null,
            "_view_module": "@jupyter-widgets/base",
            "overflow": null,
            "_model_module_version": "1.2.0",
            "_view_count": null,
            "flex_flow": null,
            "width": null,
            "min_width": null,
            "border": null,
            "align_items": null,
            "bottom": null,
            "_model_module": "@jupyter-widgets/base",
            "top": null,
            "grid_column": null,
            "overflow_y": null,
            "overflow_x": null,
            "grid_auto_flow": null,
            "grid_area": null,
            "grid_template_columns": null,
            "flex": null,
            "_model_name": "LayoutModel",
            "justify_items": null,
            "grid_row": null,
            "max_height": null,
            "align_content": null,
            "visibility": null,
            "align_self": null,
            "height": null,
            "min_height": null,
            "padding": null,
            "grid_auto_rows": null,
            "grid_gap": null,
            "max_width": null,
            "order": null,
            "_view_module_version": "1.2.0",
            "grid_template_areas": null,
            "object_position": null,
            "object_fit": null,
            "grid_auto_columns": null,
            "margin": null,
            "display": null,
            "left": null
          }
        },
        "ee5b81888a754569afd1dafd3ef3410d": {
          "model_module": "@jupyter-widgets/controls",
          "model_name": "HBoxModel",
          "state": {
            "_view_name": "HBoxView",
            "_dom_classes": [],
            "_model_name": "HBoxModel",
            "_view_module": "@jupyter-widgets/controls",
            "_model_module_version": "1.5.0",
            "_view_count": null,
            "_view_module_version": "1.5.0",
            "box_style": "",
            "layout": "IPY_MODEL_95fbeea2d3bf45b8a8d4e918bea51c3c",
            "_model_module": "@jupyter-widgets/controls",
            "children": [
              "IPY_MODEL_5e9f48d2b4b04cd5922b18dd69654dc7",
              "IPY_MODEL_5e6adc41fa7f4404b6e03445f19ebd53"
            ]
          }
        },
        "95fbeea2d3bf45b8a8d4e918bea51c3c": {
          "model_module": "@jupyter-widgets/base",
          "model_name": "LayoutModel",
          "state": {
            "_view_name": "LayoutView",
            "grid_template_rows": null,
            "right": null,
            "justify_content": null,
            "_view_module": "@jupyter-widgets/base",
            "overflow": null,
            "_model_module_version": "1.2.0",
            "_view_count": null,
            "flex_flow": null,
            "width": null,
            "min_width": null,
            "border": null,
            "align_items": null,
            "bottom": null,
            "_model_module": "@jupyter-widgets/base",
            "top": null,
            "grid_column": null,
            "overflow_y": null,
            "overflow_x": null,
            "grid_auto_flow": null,
            "grid_area": null,
            "grid_template_columns": null,
            "flex": null,
            "_model_name": "LayoutModel",
            "justify_items": null,
            "grid_row": null,
            "max_height": null,
            "align_content": null,
            "visibility": null,
            "align_self": null,
            "height": null,
            "min_height": null,
            "padding": null,
            "grid_auto_rows": null,
            "grid_gap": null,
            "max_width": null,
            "order": null,
            "_view_module_version": "1.2.0",
            "grid_template_areas": null,
            "object_position": null,
            "object_fit": null,
            "grid_auto_columns": null,
            "margin": null,
            "display": null,
            "left": null
          }
        },
        "5e9f48d2b4b04cd5922b18dd69654dc7": {
          "model_module": "@jupyter-widgets/controls",
          "model_name": "FloatProgressModel",
          "state": {
            "_view_name": "ProgressView",
            "style": "IPY_MODEL_69434fc7d7d7465388f863d0138af01e",
            "_dom_classes": [],
            "description": "",
            "_model_name": "FloatProgressModel",
            "bar_style": "success",
            "max": 1648877,
            "_view_module": "@jupyter-widgets/controls",
            "_model_module_version": "1.5.0",
            "value": 1648877,
            "_view_count": null,
            "_view_module_version": "1.5.0",
            "orientation": "horizontal",
            "min": 0,
            "description_tooltip": null,
            "_model_module": "@jupyter-widgets/controls",
            "layout": "IPY_MODEL_d4d5a2ec1b414c8eacce001f68b392df"
          }
        },
        "5e6adc41fa7f4404b6e03445f19ebd53": {
          "model_module": "@jupyter-widgets/controls",
          "model_name": "HTMLModel",
          "state": {
            "_view_name": "HTMLView",
            "style": "IPY_MODEL_126571c740324ac6b4cf4c95e2e3aa6e",
            "_dom_classes": [],
            "description": "",
            "_model_name": "HTMLModel",
            "placeholder": "​",
            "_view_module": "@jupyter-widgets/controls",
            "_model_module_version": "1.5.0",
            "value": " 1649664/? [00:01&lt;00:00, 1035564.15it/s]",
            "_view_count": null,
            "_view_module_version": "1.5.0",
            "description_tooltip": null,
            "_model_module": "@jupyter-widgets/controls",
            "layout": "IPY_MODEL_51841d7b42194bf89675327ed1ae054b"
          }
        },
        "69434fc7d7d7465388f863d0138af01e": {
          "model_module": "@jupyter-widgets/controls",
          "model_name": "ProgressStyleModel",
          "state": {
            "_view_name": "StyleView",
            "_model_name": "ProgressStyleModel",
            "description_width": "initial",
            "_view_module": "@jupyter-widgets/base",
            "_model_module_version": "1.5.0",
            "_view_count": null,
            "_view_module_version": "1.2.0",
            "bar_color": null,
            "_model_module": "@jupyter-widgets/controls"
          }
        },
        "d4d5a2ec1b414c8eacce001f68b392df": {
          "model_module": "@jupyter-widgets/base",
          "model_name": "LayoutModel",
          "state": {
            "_view_name": "LayoutView",
            "grid_template_rows": null,
            "right": null,
            "justify_content": null,
            "_view_module": "@jupyter-widgets/base",
            "overflow": null,
            "_model_module_version": "1.2.0",
            "_view_count": null,
            "flex_flow": null,
            "width": null,
            "min_width": null,
            "border": null,
            "align_items": null,
            "bottom": null,
            "_model_module": "@jupyter-widgets/base",
            "top": null,
            "grid_column": null,
            "overflow_y": null,
            "overflow_x": null,
            "grid_auto_flow": null,
            "grid_area": null,
            "grid_template_columns": null,
            "flex": null,
            "_model_name": "LayoutModel",
            "justify_items": null,
            "grid_row": null,
            "max_height": null,
            "align_content": null,
            "visibility": null,
            "align_self": null,
            "height": null,
            "min_height": null,
            "padding": null,
            "grid_auto_rows": null,
            "grid_gap": null,
            "max_width": null,
            "order": null,
            "_view_module_version": "1.2.0",
            "grid_template_areas": null,
            "object_position": null,
            "object_fit": null,
            "grid_auto_columns": null,
            "margin": null,
            "display": null,
            "left": null
          }
        },
        "126571c740324ac6b4cf4c95e2e3aa6e": {
          "model_module": "@jupyter-widgets/controls",
          "model_name": "DescriptionStyleModel",
          "state": {
            "_view_name": "StyleView",
            "_model_name": "DescriptionStyleModel",
            "description_width": "",
            "_view_module": "@jupyter-widgets/base",
            "_model_module_version": "1.5.0",
            "_view_count": null,
            "_view_module_version": "1.2.0",
            "_model_module": "@jupyter-widgets/controls"
          }
        },
        "51841d7b42194bf89675327ed1ae054b": {
          "model_module": "@jupyter-widgets/base",
          "model_name": "LayoutModel",
          "state": {
            "_view_name": "LayoutView",
            "grid_template_rows": null,
            "right": null,
            "justify_content": null,
            "_view_module": "@jupyter-widgets/base",
            "overflow": null,
            "_model_module_version": "1.2.0",
            "_view_count": null,
            "flex_flow": null,
            "width": null,
            "min_width": null,
            "border": null,
            "align_items": null,
            "bottom": null,
            "_model_module": "@jupyter-widgets/base",
            "top": null,
            "grid_column": null,
            "overflow_y": null,
            "overflow_x": null,
            "grid_auto_flow": null,
            "grid_area": null,
            "grid_template_columns": null,
            "flex": null,
            "_model_name": "LayoutModel",
            "justify_items": null,
            "grid_row": null,
            "max_height": null,
            "align_content": null,
            "visibility": null,
            "align_self": null,
            "height": null,
            "min_height": null,
            "padding": null,
            "grid_auto_rows": null,
            "grid_gap": null,
            "max_width": null,
            "order": null,
            "_view_module_version": "1.2.0",
            "grid_template_areas": null,
            "object_position": null,
            "object_fit": null,
            "grid_auto_columns": null,
            "margin": null,
            "display": null,
            "left": null
          }
        },
        "ed32adc851fa47558da4a0b55a954aa4": {
          "model_module": "@jupyter-widgets/controls",
          "model_name": "HBoxModel",
          "state": {
            "_view_name": "HBoxView",
            "_dom_classes": [],
            "_model_name": "HBoxModel",
            "_view_module": "@jupyter-widgets/controls",
            "_model_module_version": "1.5.0",
            "_view_count": null,
            "_view_module_version": "1.5.0",
            "box_style": "",
            "layout": "IPY_MODEL_c8f06439ba40415398d351f90d177b2e",
            "_model_module": "@jupyter-widgets/controls",
            "children": [
              "IPY_MODEL_3033c37a548e42c298a0f34bdbde5d8d",
              "IPY_MODEL_b1251bd3418c447aa923f112fc9056a8"
            ]
          }
        },
        "c8f06439ba40415398d351f90d177b2e": {
          "model_module": "@jupyter-widgets/base",
          "model_name": "LayoutModel",
          "state": {
            "_view_name": "LayoutView",
            "grid_template_rows": null,
            "right": null,
            "justify_content": null,
            "_view_module": "@jupyter-widgets/base",
            "overflow": null,
            "_model_module_version": "1.2.0",
            "_view_count": null,
            "flex_flow": null,
            "width": null,
            "min_width": null,
            "border": null,
            "align_items": null,
            "bottom": null,
            "_model_module": "@jupyter-widgets/base",
            "top": null,
            "grid_column": null,
            "overflow_y": null,
            "overflow_x": null,
            "grid_auto_flow": null,
            "grid_area": null,
            "grid_template_columns": null,
            "flex": null,
            "_model_name": "LayoutModel",
            "justify_items": null,
            "grid_row": null,
            "max_height": null,
            "align_content": null,
            "visibility": null,
            "align_self": null,
            "height": null,
            "min_height": null,
            "padding": null,
            "grid_auto_rows": null,
            "grid_gap": null,
            "max_width": null,
            "order": null,
            "_view_module_version": "1.2.0",
            "grid_template_areas": null,
            "object_position": null,
            "object_fit": null,
            "grid_auto_columns": null,
            "margin": null,
            "display": null,
            "left": null
          }
        },
        "3033c37a548e42c298a0f34bdbde5d8d": {
          "model_module": "@jupyter-widgets/controls",
          "model_name": "FloatProgressModel",
          "state": {
            "_view_name": "ProgressView",
            "style": "IPY_MODEL_676d257964c84324a4012664931c6c97",
            "_dom_classes": [],
            "description": "",
            "_model_name": "FloatProgressModel",
            "bar_style": "success",
            "max": 4542,
            "_view_module": "@jupyter-widgets/controls",
            "_model_module_version": "1.5.0",
            "value": 4542,
            "_view_count": null,
            "_view_module_version": "1.5.0",
            "orientation": "horizontal",
            "min": 0,
            "description_tooltip": null,
            "_model_module": "@jupyter-widgets/controls",
            "layout": "IPY_MODEL_53c8b27e3c664fcf92d5457205c49e51"
          }
        },
        "b1251bd3418c447aa923f112fc9056a8": {
          "model_module": "@jupyter-widgets/controls",
          "model_name": "HTMLModel",
          "state": {
            "_view_name": "HTMLView",
            "style": "IPY_MODEL_2851080db7ea419c9b84b7270c638471",
            "_dom_classes": [],
            "description": "",
            "_model_name": "HTMLModel",
            "placeholder": "​",
            "_view_module": "@jupyter-widgets/controls",
            "_model_module_version": "1.5.0",
            "value": " 5120/? [00:00&lt;00:00, 15688.42it/s]",
            "_view_count": null,
            "_view_module_version": "1.5.0",
            "description_tooltip": null,
            "_model_module": "@jupyter-widgets/controls",
            "layout": "IPY_MODEL_6c37714dc3884381a21dfc026e373ef8"
          }
        },
        "676d257964c84324a4012664931c6c97": {
          "model_module": "@jupyter-widgets/controls",
          "model_name": "ProgressStyleModel",
          "state": {
            "_view_name": "StyleView",
            "_model_name": "ProgressStyleModel",
            "description_width": "initial",
            "_view_module": "@jupyter-widgets/base",
            "_model_module_version": "1.5.0",
            "_view_count": null,
            "_view_module_version": "1.2.0",
            "bar_color": null,
            "_model_module": "@jupyter-widgets/controls"
          }
        },
        "53c8b27e3c664fcf92d5457205c49e51": {
          "model_module": "@jupyter-widgets/base",
          "model_name": "LayoutModel",
          "state": {
            "_view_name": "LayoutView",
            "grid_template_rows": null,
            "right": null,
            "justify_content": null,
            "_view_module": "@jupyter-widgets/base",
            "overflow": null,
            "_model_module_version": "1.2.0",
            "_view_count": null,
            "flex_flow": null,
            "width": null,
            "min_width": null,
            "border": null,
            "align_items": null,
            "bottom": null,
            "_model_module": "@jupyter-widgets/base",
            "top": null,
            "grid_column": null,
            "overflow_y": null,
            "overflow_x": null,
            "grid_auto_flow": null,
            "grid_area": null,
            "grid_template_columns": null,
            "flex": null,
            "_model_name": "LayoutModel",
            "justify_items": null,
            "grid_row": null,
            "max_height": null,
            "align_content": null,
            "visibility": null,
            "align_self": null,
            "height": null,
            "min_height": null,
            "padding": null,
            "grid_auto_rows": null,
            "grid_gap": null,
            "max_width": null,
            "order": null,
            "_view_module_version": "1.2.0",
            "grid_template_areas": null,
            "object_position": null,
            "object_fit": null,
            "grid_auto_columns": null,
            "margin": null,
            "display": null,
            "left": null
          }
        },
        "2851080db7ea419c9b84b7270c638471": {
          "model_module": "@jupyter-widgets/controls",
          "model_name": "DescriptionStyleModel",
          "state": {
            "_view_name": "StyleView",
            "_model_name": "DescriptionStyleModel",
            "description_width": "",
            "_view_module": "@jupyter-widgets/base",
            "_model_module_version": "1.5.0",
            "_view_count": null,
            "_view_module_version": "1.2.0",
            "_model_module": "@jupyter-widgets/controls"
          }
        },
        "6c37714dc3884381a21dfc026e373ef8": {
          "model_module": "@jupyter-widgets/base",
          "model_name": "LayoutModel",
          "state": {
            "_view_name": "LayoutView",
            "grid_template_rows": null,
            "right": null,
            "justify_content": null,
            "_view_module": "@jupyter-widgets/base",
            "overflow": null,
            "_model_module_version": "1.2.0",
            "_view_count": null,
            "flex_flow": null,
            "width": null,
            "min_width": null,
            "border": null,
            "align_items": null,
            "bottom": null,
            "_model_module": "@jupyter-widgets/base",
            "top": null,
            "grid_column": null,
            "overflow_y": null,
            "overflow_x": null,
            "grid_auto_flow": null,
            "grid_area": null,
            "grid_template_columns": null,
            "flex": null,
            "_model_name": "LayoutModel",
            "justify_items": null,
            "grid_row": null,
            "max_height": null,
            "align_content": null,
            "visibility": null,
            "align_self": null,
            "height": null,
            "min_height": null,
            "padding": null,
            "grid_auto_rows": null,
            "grid_gap": null,
            "max_width": null,
            "order": null,
            "_view_module_version": "1.2.0",
            "grid_template_areas": null,
            "object_position": null,
            "object_fit": null,
            "grid_auto_columns": null,
            "margin": null,
            "display": null,
            "left": null
          }
        },
        "32ee990e7ce9496da9646550fe91937e": {
          "model_module": "@jupyter-widgets/controls",
          "model_name": "HBoxModel",
          "state": {
            "_view_name": "HBoxView",
            "_dom_classes": [],
            "_model_name": "HBoxModel",
            "_view_module": "@jupyter-widgets/controls",
            "_model_module_version": "1.5.0",
            "_view_count": null,
            "_view_module_version": "1.5.0",
            "box_style": "",
            "layout": "IPY_MODEL_3ee6dc7feae04c9195dbca7335d93611",
            "_model_module": "@jupyter-widgets/controls",
            "children": [
              "IPY_MODEL_822232edf0f14098913f65e1bdeb1abc",
              "IPY_MODEL_54f9db7706bf4c16a8670aacc0acc335"
            ]
          }
        },
        "3ee6dc7feae04c9195dbca7335d93611": {
          "model_module": "@jupyter-widgets/base",
          "model_name": "LayoutModel",
          "state": {
            "_view_name": "LayoutView",
            "grid_template_rows": null,
            "right": null,
            "justify_content": null,
            "_view_module": "@jupyter-widgets/base",
            "overflow": null,
            "_model_module_version": "1.2.0",
            "_view_count": null,
            "flex_flow": null,
            "width": null,
            "min_width": null,
            "border": null,
            "align_items": null,
            "bottom": null,
            "_model_module": "@jupyter-widgets/base",
            "top": null,
            "grid_column": null,
            "overflow_y": null,
            "overflow_x": null,
            "grid_auto_flow": null,
            "grid_area": null,
            "grid_template_columns": null,
            "flex": null,
            "_model_name": "LayoutModel",
            "justify_items": null,
            "grid_row": null,
            "max_height": null,
            "align_content": null,
            "visibility": null,
            "align_self": null,
            "height": null,
            "min_height": null,
            "padding": null,
            "grid_auto_rows": null,
            "grid_gap": null,
            "max_width": null,
            "order": null,
            "_view_module_version": "1.2.0",
            "grid_template_areas": null,
            "object_position": null,
            "object_fit": null,
            "grid_auto_columns": null,
            "margin": null,
            "display": null,
            "left": null
          }
        },
        "822232edf0f14098913f65e1bdeb1abc": {
          "model_module": "@jupyter-widgets/controls",
          "model_name": "FloatProgressModel",
          "state": {
            "_view_name": "ProgressView",
            "style": "IPY_MODEL_2cc791c73d2440f589577b3a66cafad4",
            "_dom_classes": [],
            "description": "",
            "_model_name": "FloatProgressModel",
            "bar_style": "success",
            "max": 182040794,
            "_view_module": "@jupyter-widgets/controls",
            "_model_module_version": "1.5.0",
            "value": 182040794,
            "_view_count": null,
            "_view_module_version": "1.5.0",
            "orientation": "horizontal",
            "min": 0,
            "description_tooltip": null,
            "_model_module": "@jupyter-widgets/controls",
            "layout": "IPY_MODEL_a7bdfd65e30446cab38ce3327ade5d47"
          }
        },
        "54f9db7706bf4c16a8670aacc0acc335": {
          "model_module": "@jupyter-widgets/controls",
          "model_name": "HTMLModel",
          "state": {
            "_view_name": "HTMLView",
            "style": "IPY_MODEL_72078be362114e4cb9e580cd98d69401",
            "_dom_classes": [],
            "description": "",
            "_model_name": "HTMLModel",
            "placeholder": "​",
            "_view_module": "@jupyter-widgets/controls",
            "_model_module_version": "1.5.0",
            "value": " 182041600/? [00:03&lt;00:00, 58390248.79it/s]",
            "_view_count": null,
            "_view_module_version": "1.5.0",
            "description_tooltip": null,
            "_model_module": "@jupyter-widgets/controls",
            "layout": "IPY_MODEL_e9d7e6b825354d6db033512c022d7a47"
          }
        },
        "2cc791c73d2440f589577b3a66cafad4": {
          "model_module": "@jupyter-widgets/controls",
          "model_name": "ProgressStyleModel",
          "state": {
            "_view_name": "StyleView",
            "_model_name": "ProgressStyleModel",
            "description_width": "initial",
            "_view_module": "@jupyter-widgets/base",
            "_model_module_version": "1.5.0",
            "_view_count": null,
            "_view_module_version": "1.2.0",
            "bar_color": null,
            "_model_module": "@jupyter-widgets/controls"
          }
        },
        "a7bdfd65e30446cab38ce3327ade5d47": {
          "model_module": "@jupyter-widgets/base",
          "model_name": "LayoutModel",
          "state": {
            "_view_name": "LayoutView",
            "grid_template_rows": null,
            "right": null,
            "justify_content": null,
            "_view_module": "@jupyter-widgets/base",
            "overflow": null,
            "_model_module_version": "1.2.0",
            "_view_count": null,
            "flex_flow": null,
            "width": null,
            "min_width": null,
            "border": null,
            "align_items": null,
            "bottom": null,
            "_model_module": "@jupyter-widgets/base",
            "top": null,
            "grid_column": null,
            "overflow_y": null,
            "overflow_x": null,
            "grid_auto_flow": null,
            "grid_area": null,
            "grid_template_columns": null,
            "flex": null,
            "_model_name": "LayoutModel",
            "justify_items": null,
            "grid_row": null,
            "max_height": null,
            "align_content": null,
            "visibility": null,
            "align_self": null,
            "height": null,
            "min_height": null,
            "padding": null,
            "grid_auto_rows": null,
            "grid_gap": null,
            "max_width": null,
            "order": null,
            "_view_module_version": "1.2.0",
            "grid_template_areas": null,
            "object_position": null,
            "object_fit": null,
            "grid_auto_columns": null,
            "margin": null,
            "display": null,
            "left": null
          }
        },
        "72078be362114e4cb9e580cd98d69401": {
          "model_module": "@jupyter-widgets/controls",
          "model_name": "DescriptionStyleModel",
          "state": {
            "_view_name": "StyleView",
            "_model_name": "DescriptionStyleModel",
            "description_width": "",
            "_view_module": "@jupyter-widgets/base",
            "_model_module_version": "1.5.0",
            "_view_count": null,
            "_view_module_version": "1.2.0",
            "_model_module": "@jupyter-widgets/controls"
          }
        },
        "e9d7e6b825354d6db033512c022d7a47": {
          "model_module": "@jupyter-widgets/base",
          "model_name": "LayoutModel",
          "state": {
            "_view_name": "LayoutView",
            "grid_template_rows": null,
            "right": null,
            "justify_content": null,
            "_view_module": "@jupyter-widgets/base",
            "overflow": null,
            "_model_module_version": "1.2.0",
            "_view_count": null,
            "flex_flow": null,
            "width": null,
            "min_width": null,
            "border": null,
            "align_items": null,
            "bottom": null,
            "_model_module": "@jupyter-widgets/base",
            "top": null,
            "grid_column": null,
            "overflow_y": null,
            "overflow_x": null,
            "grid_auto_flow": null,
            "grid_area": null,
            "grid_template_columns": null,
            "flex": null,
            "_model_name": "LayoutModel",
            "justify_items": null,
            "grid_row": null,
            "max_height": null,
            "align_content": null,
            "visibility": null,
            "align_self": null,
            "height": null,
            "min_height": null,
            "padding": null,
            "grid_auto_rows": null,
            "grid_gap": null,
            "max_width": null,
            "order": null,
            "_view_module_version": "1.2.0",
            "grid_template_areas": null,
            "object_position": null,
            "object_fit": null,
            "grid_auto_columns": null,
            "margin": null,
            "display": null,
            "left": null
          }
        },
        "b47a07867f97468480184a553acbb90b": {
          "model_module": "@jupyter-widgets/controls",
          "model_name": "HBoxModel",
          "state": {
            "_view_name": "HBoxView",
            "_dom_classes": [],
            "_model_name": "HBoxModel",
            "_view_module": "@jupyter-widgets/controls",
            "_model_module_version": "1.5.0",
            "_view_count": null,
            "_view_module_version": "1.5.0",
            "box_style": "",
            "layout": "IPY_MODEL_b974be9549cb4d32b58c680fb45fd01f",
            "_model_module": "@jupyter-widgets/controls",
            "children": [
              "IPY_MODEL_e7d48ed5e3db43f7b215ed774253d319",
              "IPY_MODEL_ad8ccfe835cd497faf85e9f167cac54c"
            ]
          }
        },
        "b974be9549cb4d32b58c680fb45fd01f": {
          "model_module": "@jupyter-widgets/base",
          "model_name": "LayoutModel",
          "state": {
            "_view_name": "LayoutView",
            "grid_template_rows": null,
            "right": null,
            "justify_content": null,
            "_view_module": "@jupyter-widgets/base",
            "overflow": null,
            "_model_module_version": "1.2.0",
            "_view_count": null,
            "flex_flow": null,
            "width": null,
            "min_width": null,
            "border": null,
            "align_items": null,
            "bottom": null,
            "_model_module": "@jupyter-widgets/base",
            "top": null,
            "grid_column": null,
            "overflow_y": null,
            "overflow_x": null,
            "grid_auto_flow": null,
            "grid_area": null,
            "grid_template_columns": null,
            "flex": null,
            "_model_name": "LayoutModel",
            "justify_items": null,
            "grid_row": null,
            "max_height": null,
            "align_content": null,
            "visibility": null,
            "align_self": null,
            "height": null,
            "min_height": null,
            "padding": null,
            "grid_auto_rows": null,
            "grid_gap": null,
            "max_width": null,
            "order": null,
            "_view_module_version": "1.2.0",
            "grid_template_areas": null,
            "object_position": null,
            "object_fit": null,
            "grid_auto_columns": null,
            "margin": null,
            "display": null,
            "left": null
          }
        },
        "e7d48ed5e3db43f7b215ed774253d319": {
          "model_module": "@jupyter-widgets/controls",
          "model_name": "FloatProgressModel",
          "state": {
            "_view_name": "ProgressView",
            "style": "IPY_MODEL_cd3a15e3351e4e25a5adf446a69b6a40",
            "_dom_classes": [],
            "description": "",
            "_model_name": "FloatProgressModel",
            "bar_style": "success",
            "max": 6579383,
            "_view_module": "@jupyter-widgets/controls",
            "_model_module_version": "1.5.0",
            "value": 6579383,
            "_view_count": null,
            "_view_module_version": "1.5.0",
            "orientation": "horizontal",
            "min": 0,
            "description_tooltip": null,
            "_model_module": "@jupyter-widgets/controls",
            "layout": "IPY_MODEL_fe704ed2626645b3afbd1d628886534c"
          }
        },
        "ad8ccfe835cd497faf85e9f167cac54c": {
          "model_module": "@jupyter-widgets/controls",
          "model_name": "HTMLModel",
          "state": {
            "_view_name": "HTMLView",
            "style": "IPY_MODEL_269a2355c36648949b68effb36d57319",
            "_dom_classes": [],
            "description": "",
            "_model_name": "HTMLModel",
            "placeholder": "​",
            "_view_module": "@jupyter-widgets/controls",
            "_model_module_version": "1.5.0",
            "value": " 6580224/? [00:02&lt;00:00, 2904556.60it/s]",
            "_view_count": null,
            "_view_module_version": "1.5.0",
            "description_tooltip": null,
            "_model_module": "@jupyter-widgets/controls",
            "layout": "IPY_MODEL_f42f025e1f7d4bf39da42def708c5304"
          }
        },
        "cd3a15e3351e4e25a5adf446a69b6a40": {
          "model_module": "@jupyter-widgets/controls",
          "model_name": "ProgressStyleModel",
          "state": {
            "_view_name": "StyleView",
            "_model_name": "ProgressStyleModel",
            "description_width": "initial",
            "_view_module": "@jupyter-widgets/base",
            "_model_module_version": "1.5.0",
            "_view_count": null,
            "_view_module_version": "1.2.0",
            "bar_color": null,
            "_model_module": "@jupyter-widgets/controls"
          }
        },
        "fe704ed2626645b3afbd1d628886534c": {
          "model_module": "@jupyter-widgets/base",
          "model_name": "LayoutModel",
          "state": {
            "_view_name": "LayoutView",
            "grid_template_rows": null,
            "right": null,
            "justify_content": null,
            "_view_module": "@jupyter-widgets/base",
            "overflow": null,
            "_model_module_version": "1.2.0",
            "_view_count": null,
            "flex_flow": null,
            "width": null,
            "min_width": null,
            "border": null,
            "align_items": null,
            "bottom": null,
            "_model_module": "@jupyter-widgets/base",
            "top": null,
            "grid_column": null,
            "overflow_y": null,
            "overflow_x": null,
            "grid_auto_flow": null,
            "grid_area": null,
            "grid_template_columns": null,
            "flex": null,
            "_model_name": "LayoutModel",
            "justify_items": null,
            "grid_row": null,
            "max_height": null,
            "align_content": null,
            "visibility": null,
            "align_self": null,
            "height": null,
            "min_height": null,
            "padding": null,
            "grid_auto_rows": null,
            "grid_gap": null,
            "max_width": null,
            "order": null,
            "_view_module_version": "1.2.0",
            "grid_template_areas": null,
            "object_position": null,
            "object_fit": null,
            "grid_auto_columns": null,
            "margin": null,
            "display": null,
            "left": null
          }
        },
        "269a2355c36648949b68effb36d57319": {
          "model_module": "@jupyter-widgets/controls",
          "model_name": "DescriptionStyleModel",
          "state": {
            "_view_name": "StyleView",
            "_model_name": "DescriptionStyleModel",
            "description_width": "",
            "_view_module": "@jupyter-widgets/base",
            "_model_module_version": "1.5.0",
            "_view_count": null,
            "_view_module_version": "1.2.0",
            "_model_module": "@jupyter-widgets/controls"
          }
        },
        "f42f025e1f7d4bf39da42def708c5304": {
          "model_module": "@jupyter-widgets/base",
          "model_name": "LayoutModel",
          "state": {
            "_view_name": "LayoutView",
            "grid_template_rows": null,
            "right": null,
            "justify_content": null,
            "_view_module": "@jupyter-widgets/base",
            "overflow": null,
            "_model_module_version": "1.2.0",
            "_view_count": null,
            "flex_flow": null,
            "width": null,
            "min_width": null,
            "border": null,
            "align_items": null,
            "bottom": null,
            "_model_module": "@jupyter-widgets/base",
            "top": null,
            "grid_column": null,
            "overflow_y": null,
            "overflow_x": null,
            "grid_auto_flow": null,
            "grid_area": null,
            "grid_template_columns": null,
            "flex": null,
            "_model_name": "LayoutModel",
            "justify_items": null,
            "grid_row": null,
            "max_height": null,
            "align_content": null,
            "visibility": null,
            "align_self": null,
            "height": null,
            "min_height": null,
            "padding": null,
            "grid_auto_rows": null,
            "grid_gap": null,
            "max_width": null,
            "order": null,
            "_view_module_version": "1.2.0",
            "grid_template_areas": null,
            "object_position": null,
            "object_fit": null,
            "grid_auto_columns": null,
            "margin": null,
            "display": null,
            "left": null
          }
        }
      }
    }
  },
  "cells": [
    {
      "cell_type": "markdown",
      "metadata": {
        "id": "2bDRvKfs9lbg"
      },
      "source": [
        "# **Life-long Learning**"
      ]
    },
    {
      "cell_type": "markdown",
      "metadata": {
        "id": "y_rgXxv795l1"
      },
      "source": [
        "# **Introduction**\n",
        "- The approaches of life-long learning can be categorized as three main categories according to this [dissertation](https://arxiv.org/pdf/1910.02718.pdf).\n",
        "- In the research, the author investigated the models proposed from 2016 to 2019 and can be summarized as follows:\n",
        "  - Replay-based methods\n",
        "  - Regularization-based methods\n",
        "  - Parameter isolation methods\n",
        "\n",
        "<p align=\"center\"><img width=\"70%\" src=\"https://i.ibb.co/VDFJkWG/2019-12-29-17-25.png\" /></p>\n",
        "\n",
        "- In this tutorial, we will implement two *prior-focused* methods from *regularization-based methods*. That is, the ***EWC*** and ***MAS***. "
      ]
    },
    {
      "cell_type": "markdown",
      "metadata": {
        "id": "fCWt5K-hABLt"
      },
      "source": [
        "# **Import the Libraries**"
      ]
    },
    {
      "cell_type": "code",
      "metadata": {
        "id": "0FSMNlRdBqZM"
      },
      "source": [
        "%%capture\n",
        "import torch\n",
        "import torch.nn as nn\n",
        "import torch.optim as optim\n",
        "import torch.nn.functional as F\n",
        "import torch.utils.data as data\n",
        "import torch.utils.data.sampler as sampler\n",
        "import torchvision\n",
        "from torchvision import datasets, transforms\n",
        "\n",
        "import numpy as np\n",
        "import os\n",
        "import random\n",
        "from copy import deepcopy\n",
        "import json\n",
        "\n",
        "device = torch.device(\"cuda\" if torch.cuda.is_available() else \"cpu\")"
      ],
      "execution_count": null,
      "outputs": []
    },
    {
      "cell_type": "markdown",
      "metadata": {
        "id": "nZtd8_PZAI5i"
      },
      "source": [
        "# **Build the Models**"
      ]
    },
    {
      "cell_type": "markdown",
      "metadata": {
        "id": "rYUugy9gDoCZ"
      },
      "source": [
        "- As we will focus on the life-long learning approaches, the model is a simple 6-layer fully-connected layer neuron network with relu as an activation function."
      ]
    },
    {
      "cell_type": "markdown",
      "metadata": {
        "id": "at6HuXXzAOMx"
      },
      "source": [
        "## Basic Model"
      ]
    },
    {
      "cell_type": "code",
      "metadata": {
        "id": "l96KK5YpEUud"
      },
      "source": [
        "class Model(nn.Module):\n",
        "\n",
        "  def __init__(self):\n",
        "    super(Model, self).__init__()\n",
        "    self.fc1 = nn.Linear(3*32*32, 1024)\n",
        "    self.fc2 = nn.Linear(1024, 512)\n",
        "    self.fc3 = nn.Linear(512, 256)\n",
        "    self.fc4 = nn.Linear(256, 128)\n",
        "    self.fc5 = nn.Linear(128, 128)\n",
        "    self.fc6 = nn.Linear(128, 10)\n",
        "    self.relu = nn.ReLU()\n",
        "  \n",
        "  def forward(self, x):\n",
        "    x = x.view(-1, 3*32*32)\n",
        "    x = self.fc1(x)\n",
        "    x = self.relu(x)\n",
        "    x = self.fc2(x)\n",
        "    x = self.relu(x)\n",
        "    x = self.fc3(x)\n",
        "    x = self.relu(x)\n",
        "    x = self.fc4(x)\n",
        "    x = self.relu(x)\n",
        "    x = self.fc5(x)\n",
        "    x = self.relu(x)\n",
        "    x = self.fc6(x)\n",
        "    return x"
      ],
      "execution_count": null,
      "outputs": []
    },
    {
      "cell_type": "markdown",
      "metadata": {
        "id": "lDT8N0aOAQTK"
      },
      "source": [
        "## EWC (Elastic Weight Consolidation)"
      ]
    },
    {
      "cell_type": "markdown",
      "metadata": {
        "id": "0BvEszA0F6Ke"
      },
      "source": [
        "Imagine we have two tasks to be learned one by one with a model. In the EWC approach, the loss function is defined as follows.\n",
        "\n",
        "$$\\mathcal{L}_B = \\mathcal{L}(\\theta) + \\sum_{i} \\frac{\\lambda}{2} F_i (\\theta_{i} - \\theta_{A,i}^{*})^2$$\n",
        "\n",
        "where\n",
        "- $\\mathcal{L}_B$ is loss on task B;\n",
        "- $\\mathcal{L}(\\theta)$ is the common loss;\n",
        "- $F_i$ is the guard on a specific parameter $\\theta_{i}$;\n",
        "- $\\theta_{A,i}^{*}$ is the parameter after training on task A;\n",
        "- $\\theta_{i}$ is the current parameter of the model.\n",
        "\n",
        "The model structure remains the same along with the training with task A and B.\\\n",
        "The equation to calculate $F_i$ is given as below.\n",
        "\n",
        "$$ F = [ \\nabla \\log(p(y_n | x_n, \\theta_{A}^{*}) \\nabla \\log(p(y_n | x_n, \\theta_{A}^{*})^T ] $$ \n",
        "\n",
        "From the equation, there are several things to be noticed:\n",
        "- In $F$, only the diagonal value is used to approximate the $F_i$ value of each parameter.\n",
        "- $p(y_n | x_n, \\theta_{A}^{*})$ refers to the posterior probability of $y_n$ (label corresponding to $x_n$) given the data of previous task, $x_n$ and the model parameters $\\theta_A^*$ saved from task A after training.\n",
        "- Therefore, what we need to do is to compute the gradient of $p(y_n | x_n, \\theta_{A}^{*})$. Then square it.\n",
        "\n",
        "If you are interested in how the equation could be used to approximate the $F_i$, please refer to sections 2.4.1 and 2.4 [here](https://arxiv.org/pdf/1910.02718.pdf).\n",
        "\n",
        "- Reference on EWC: [Overcoming catastrophic forgetting in neural networks](https://arxiv.org/pdf/1612.00796.pdf)."
      ]
    },
    {
      "cell_type": "code",
      "metadata": {
        "id": "gT2RdRvHF5n6"
      },
      "source": [
        "class EWC(object):\n",
        "  \n",
        "  def __init__(self, model: nn.Module, dataloaders: list, device):\n",
        "    self.model = model\n",
        "    self.dataloaders = dataloaders\n",
        "    self.device = device\n",
        "\n",
        "    self.params = {n: p for n, p in self.model.named_parameters() if p.requires_grad} # get all the moel parameters\n",
        "    self._means = {} # initialize the mean parameters\n",
        "    self._precision_matrices = self._calculate_importance() # create the Fisher (F) matrix\n",
        "\n",
        "    for n, p in self.params.items():\n",
        "      self._means[n] = p.clone().detach() # compute the mean of each parameters based on previous task data\n",
        "\n",
        "  \n",
        "  def _calculate_importance(self):\n",
        "    print('Computing EWC')\n",
        "    precision_matrices = {}\n",
        "    for n, p in self.params.items(): # initialize the Fisher Matrix with 0\n",
        "      precision_matrices[n] = p.clone().detach().fill_(0)\n",
        "    \n",
        "    self.model.eval()\n",
        "    dataloader_num = len(self.dataloaders)\n",
        "    number_data = sum([len(loader) for loader in self.dataloaders])\n",
        "\n",
        "    for dataloader in self.dataloaders:\n",
        "      for data in dataloader:\n",
        "        self.model.zero_grad()\n",
        "        input = data[0].to(self.device)\n",
        "        output = self.model(input).view(1, -1)\n",
        "        label = output.max(1)[1].view(-1)\n",
        "\n",
        "        # build the Fisher (F) Matrix\n",
        "        loss = F.nll_loss(F.log_softmax(output, dim=1), label)\n",
        "        loss.backward()\n",
        "\n",
        "        for n, p in self.model.named_parameters():\n",
        "          precision_matrices[n].data += p.grad.data ** 2 / number_data\n",
        "    \n",
        "    precision_matrices = {n: p for n, p in precision_matrices.items()}\n",
        "    return precision_matrices\n",
        "  \n",
        "\n",
        "  def penalty(self, model: nn.Module):\n",
        "    loss = 0\n",
        "    for n, p in model.named_parameters():\n",
        "      _loss = self._precision_matrices[n] * (p - self._means[n]) ** 2\n",
        "      loss += _loss.sum()\n",
        "    return loss"
      ],
      "execution_count": null,
      "outputs": []
    },
    {
      "cell_type": "markdown",
      "metadata": {
        "id": "XF7m7Rw8ASCY"
      },
      "source": [
        "## MAS (Memory Aware Synapses)\n",
        "Imagine we have two tasks to be learned one by one with a model. In the MAS approach, the loss function is defined as follows.\n",
        "\n",
        "$$\\mathcal{L}_B = \\mathcal{L}(\\theta) + \\sum_{i} \\frac{\\lambda}{2} \\Omega_i (\\theta_{i} - \\theta_{A,i}^{*})^2$$\n",
        "\n",
        "where $\\Omega_i$ can be written as:\n",
        "$$\\Omega_i = || \\frac{\\partial \\ell_2^2(M(x_k; \\theta))}{\\partial \\theta_i} ||$$\n",
        "\n",
        "where $x_k$ is the sample data from the previous task. What the equation does can be summarized as 3 steps below:\n",
        "1. Compute the **L2 Norm** over the output vector of the last layer from the model ($M(x_k; \\theta)$).\n",
        "2. Calculate the gradient over each weight.\n",
        "3. Get the absolute value from step 2.\n",
        "\n",
        "For more information on MAS, please refer to the [paper](https://arxiv.org/pdf/1711.09601.pdf)."
      ]
    },
    {
      "cell_type": "code",
      "metadata": {
        "id": "9Sa2qR46MFsD"
      },
      "source": [
        "class MAS(object):\n",
        "\n",
        "  def __init__(self, model: nn.Module, dataloaders: list, device):\n",
        "    self.model = model\n",
        "    self.dataloaders = dataloaders\n",
        "    self.params = {n: p for n, p in self.model.named_parameters() if p.requires_grad} # get all the moel parameters\n",
        "    self._means = {} # initialize the mean parameters\n",
        "    self.device = device\n",
        "    self._precision_matrices = self.calculate_importance() # create the Omega(Ω) Matrix\n",
        "\n",
        "    for n, p in self.params.items():\n",
        "      self._means[n] = p.clone().detach()\n",
        "    \n",
        "  def calculate_importance(self):\n",
        "    print('Computing MAS')\n",
        "\n",
        "    precision_matrices = {}\n",
        "    for n, p in self.params.items(): # initialize the Omega(Ω) Matrix with 0\n",
        "      precision_matrices[n] = p.clone().detach().fill_(0)\n",
        "    \n",
        "    self.model.eval()\n",
        "    dataloader_num = len(self.dataloaders)\n",
        "    num_data = sum([len(loader) for loader in self.dataloaders])\n",
        "    for dataloader in self.dataloaders:\n",
        "      for data in dataloader:\n",
        "        self.model.zero_grad()\n",
        "        output = self.model(data[0].to(self.device))\n",
        "\n",
        "        # build the Omega(Ω) Matrix\n",
        "        output.pow_(2)\n",
        "        loss = torch.sum(output, dim=1)\n",
        "        loss = loss.mean()\n",
        "        loss.backward()\n",
        "\n",
        "        for n, p in self.model.named_parameters():\n",
        "          precision_matrices[n].data += p.grad.abs() / num_data # different from EWC\n",
        "    precision_matrices = {n: p for n, p in precision_matrices.items()}\n",
        "    return precision_matrices\n",
        "  \n",
        "  def penalty(self, model: nn.Module):\n",
        "    loss = 0\n",
        "    for n, p in model.named_parameters():\n",
        "      _loss = self._precision_matrices[n] * (p - self._means[n]) ** 2\n",
        "      loss += _loss.sum()\n",
        "    return loss"
      ],
      "execution_count": null,
      "outputs": []
    },
    {
      "cell_type": "markdown",
      "metadata": {
        "id": "Pk54250HAVBC"
      },
      "source": [
        "# **Process the Data**"
      ]
    },
    {
      "cell_type": "markdown",
      "metadata": {
        "id": "dhaN61VIAcNC"
      },
      "source": [
        "## Data Preprocessing"
      ]
    },
    {
      "cell_type": "markdown",
      "metadata": {
        "id": "Ftl-WYzGQmUC"
      },
      "source": [
        "- Convert MNIST from [1 x 28 x 28] to [3 x 32 x 32].\n",
        "- Convert USPS from [1 x 16 x 16] to [3 x 32 x 32].\n",
        "- Normalize the images."
      ]
    },
    {
      "cell_type": "code",
      "metadata": {
        "id": "fl-fb8zncKU2"
      },
      "source": [
        "class Convert2RGB(object):\n",
        "  \"\"\"\n",
        "  Convert the image from 1 channel (gray) to 3 channels (RGB).\n",
        "  \"\"\"\n",
        "  def __init__(self, num_channel):\n",
        "    self.num_channel = num_channel\n",
        "  \n",
        "  def __call__(self, img):\n",
        "    \"\"\"\n",
        "    Expand the image channel to the desired size (num_channel).\n",
        "    \"\"\"\n",
        "    img_channel = img.size()[0]\n",
        "    img = torch.cat([img] * (self.num_channel - img_channel + 1), 0)\n",
        "    return img\n",
        "\n",
        "class Pad(object):\n",
        "  \"\"\"\n",
        "  Pad the height and width of the image to desired size.\n",
        "  \"\"\"\n",
        "  def __init__(self, size, fill=0, padding_mode='constant'):\n",
        "    self.size = size\n",
        "    self.fill = fill\n",
        "    self.padding_mode = padding_mode\n",
        "  \n",
        "  def __call__(self, img):\n",
        "    img_size = img.size()[1]\n",
        "    assert ((self.size - img_size) % 2 == 0)\n",
        "    padding = (self.size - img_size) // 2\n",
        "    padding = (padding, padding, padding, padding)\n",
        "    return F.pad(img, padding, self.padding_mode, self.fill)\n",
        "  \n",
        "def get_transform():\n",
        "  transform = transforms.Compose(\n",
        "      [\n",
        "       transforms.ToTensor(),\n",
        "       Pad(32),\n",
        "       Convert2RGB(3),\n",
        "       transforms.Normalize(mean=[0.5, 0.5, 0.5], std=[0.5, 0.5, 0.5])\n",
        "      ]\n",
        "  )\n",
        "  return transform"
      ],
      "execution_count": null,
      "outputs": []
    },
    {
      "cell_type": "markdown",
      "metadata": {
        "id": "oAzdGHXcAexX"
      },
      "source": [
        "## Prepare the Dataset"
      ]
    },
    {
      "cell_type": "markdown",
      "metadata": {
        "id": "5qxasuWDj5zY"
      },
      "source": [
        "- MNIST: for a single image, the size is [28, 28, 1] (gray scale). 10 classes in total.\n",
        "- SVHN: for a single image, the size is [32, 32, 3] (RGB). 10 classes in total.\n",
        "- USPS: for a single image, the size is [16, 16, 1] (gray scale). 10 classes in total."
      ]
    },
    {
      "cell_type": "code",
      "metadata": {
        "id": "Nlz58-ipkXvx"
      },
      "source": [
        "class Data():\n",
        "\n",
        "  def __init__(self, path):\n",
        "    transform = get_transform()\n",
        "\n",
        "    self.MNIST_dataset = datasets.MNIST(\n",
        "        root=os.path.join(path, \"MNIST\"),\n",
        "        transform=transform,\n",
        "        train=True,\n",
        "        download=True\n",
        "    )\n",
        "\n",
        "    self.SVHN_dataset = datasets.SVHN(\n",
        "        root=os.path.join(path, \"SVHN\"),\n",
        "        transform=transform,\n",
        "        split='train',\n",
        "        download=True\n",
        "    )\n",
        "\n",
        "    self.USPS_dataset = datasets.USPS(\n",
        "        root=os.path.join(path, \"USPS\"),\n",
        "        transform=transform,\n",
        "        train=True,\n",
        "        download=True\n",
        "    )\n",
        "  \n",
        "  def get_datasets(self):\n",
        "    a = [(self.SVHN_dataset, \"SVHN\"), (self.MNIST_dataset, \"MNIST\"), (self.USPS_dataset, \"USPS\")]\n",
        "    return a"
      ],
      "execution_count": null,
      "outputs": []
    },
    {
      "cell_type": "markdown",
      "metadata": {
        "id": "yxDnJrruAk0_"
      },
      "source": [
        "## Build the DataLoader"
      ]
    },
    {
      "cell_type": "code",
      "metadata": {
        "id": "kQst6D-FogRL"
      },
      "source": [
        "class Dataloader():\n",
        "\n",
        "  def __init__(self, dataset, batch_size, split_ratio=0.1):\n",
        "    self.dataset = dataset[0]\n",
        "    self.name = dataset[1]\n",
        "    train_sampler, val_sampler = self.split_dataset(split_ratio)\n",
        "\n",
        "    self.train_dataset_size = len(train_sampler)\n",
        "    self.val_dataset_size = len(val_sampler)\n",
        "\n",
        "    self.train_loader = data.DataLoader(self.dataset, batch_size=batch_size, sampler=train_sampler)\n",
        "    self.val_loader = data.DataLoader(self.dataset, batch_size=batch_size, sampler=val_sampler)\n",
        "    self.train_iter = self.infinite_iter()\n",
        "\n",
        "  def split_dataset(self, split_ratio):\n",
        "    data_size = len(self.dataset)\n",
        "    split = int(data_size * split_ratio)\n",
        "    indices = list(range(data_size))\n",
        "    np.random.shuffle(indices)\n",
        "    train_idx, valid_idx = indices[split:], indices[:split]\n",
        "\n",
        "    train_sampler = sampler.SubsetRandomSampler(train_idx)\n",
        "    val_sampler = sampler.SubsetRandomSampler(valid_idx)\n",
        "    return train_sampler, val_sampler\n",
        "\n",
        "  def infinite_iter(self):\n",
        "    it = iter(self.train_loader)\n",
        "    while True:\n",
        "      try:\n",
        "        ret = next(it)\n",
        "        yield ret\n",
        "      except StopIteration:\n",
        "        it = iter(self.train_loader)"
      ],
      "execution_count": null,
      "outputs": []
    },
    {
      "cell_type": "markdown",
      "metadata": {
        "id": "4Wybc2fmvtLo"
      },
      "source": [
        "# **utils**"
      ]
    },
    {
      "cell_type": "markdown",
      "metadata": {
        "id": "Pl4mEgV3vx0D"
      },
      "source": [
        "## Store the Model"
      ]
    },
    {
      "cell_type": "code",
      "metadata": {
        "id": "l7tFmbaXyw7P"
      },
      "source": [
        "def save_model(model, optimizer, store_model_path):\n",
        "  # save the model and optimizer\n",
        "  torch.save(model.state_dict(), f'{store_model_path}.ckpt')\n",
        "  torch.save(optimizer.state_dict(), f'{store_model_path}.opt')\n",
        "  return"
      ],
      "execution_count": null,
      "outputs": []
    },
    {
      "cell_type": "markdown",
      "metadata": {
        "id": "OakRL9Fiv0o4"
      },
      "source": [
        "## Load the Model"
      ]
    },
    {
      "cell_type": "code",
      "metadata": {
        "id": "jab9Bb9HzWR6"
      },
      "source": [
        "def load_model(model, optimizer, load_model_path):\n",
        "  # load the model and optimizer\n",
        "  print(f'Load the model from {load_model_path}')\n",
        "  model.load_state_dict(torch.load(f'{load_model_path}.ckpt'))\n",
        "  optimizer.load_state_dict(torch.load(f'{load_model_path}.opt'))\n",
        "  return model, optimizer"
      ],
      "execution_count": null,
      "outputs": []
    },
    {
      "cell_type": "markdown",
      "metadata": {
        "id": "TuVWHhLbv2Y2"
      },
      "source": [
        "## Build the Model and Optimizer"
      ]
    },
    {
      "cell_type": "code",
      "metadata": {
        "id": "sKxWdLKt0ZKY"
      },
      "source": [
        "def build_model(data_path, batch_size, learning_rate):\n",
        "  # create the model\n",
        "  model = Model().to(device)\n",
        "  optimizer = torch.optim.Adam(model.parameters(), lr=learning_rate)\n",
        "  data = Data(data_path)\n",
        "  datasets = data.get_datasets()\n",
        "  tasks = []\n",
        "  for dataset in datasets:\n",
        "    tasks.append(Dataloader(dataset, batch_size))\n",
        "    \n",
        "  return model, optimizer, tasks"
      ],
      "execution_count": null,
      "outputs": []
    },
    {
      "cell_type": "markdown",
      "metadata": {
        "id": "5F6q6pwBAoyc"
      },
      "source": [
        "# **Define Training Functions**"
      ]
    },
    {
      "cell_type": "markdown",
      "metadata": {
        "id": "uWqOvY3fAvJT"
      },
      "source": [
        "## Normal Training (Baseline)"
      ]
    },
    {
      "cell_type": "code",
      "metadata": {
        "id": "ZomoGNbYkslX"
      },
      "source": [
        "def normal_train(model, optimizer, task, total_epochs, summary_epochs):\n",
        "  model.train()\n",
        "  model.zero_grad()\n",
        "  criterion = nn.CrossEntropyLoss()\n",
        "  losses = []\n",
        "  loss = 0.0\n",
        "  for epoch in range(summary_epochs):\n",
        "    imgs, labels = next(task.train_iter)\n",
        "    imgs, labels = imgs.to(device), labels.to(device)\n",
        "    outputs = model(imgs)\n",
        "    ce_loss = criterion(outputs, labels)\n",
        "\n",
        "    optimizer.zero_grad()\n",
        "    ce_loss.backward()\n",
        "    optimizer.step()\n",
        "\n",
        "    loss += ce_loss.item()\n",
        "    if (epoch + 1) % 50 == 0:\n",
        "      loss = loss / 50\n",
        "      print('\\r', 'Train task {} [{}] loss: {:.3f}'.format(task.name, (total_epochs + epoch + 1), loss), end = ' ')\n",
        "      losses.append(loss)\n",
        "      loss = 0.0\n",
        "  return model, optimizer, losses"
      ],
      "execution_count": null,
      "outputs": []
    },
    {
      "cell_type": "markdown",
      "metadata": {
        "id": "OfaVOnb6AyTj"
      },
      "source": [
        "## EWC Training"
      ]
    },
    {
      "cell_type": "code",
      "metadata": {
        "id": "5LjxwjxIm-5j"
      },
      "source": [
        "def ewc_train(model, optimizer, task, total_epochs, summary_epochs, ewc, lambda_ewc):\n",
        "  model.train()\n",
        "  model.zero_grad()\n",
        "  criterion = nn.CrossEntropyLoss()\n",
        "  losses = []\n",
        "  loss = 0.0\n",
        "  for epoch in range(summary_epochs):\n",
        "    imgs, labels = next(task.train_iter)\n",
        "    imgs, labels = imgs.to(device), labels.to(device)\n",
        "    outputs = model(imgs)\n",
        "    ce_loss = criterion(outputs, labels)\n",
        "    total_loss = ce_loss\n",
        "    ewc_loss = ewc.penalty(model)\n",
        "    total_loss += lambda_ewc * ewc_loss\n",
        "\n",
        "    optimizer.zero_grad()\n",
        "    total_loss.backward()\n",
        "    optimizer.step()\n",
        "\n",
        "    loss += total_loss.item()\n",
        "    if (epoch + 1) % 50 == 0:\n",
        "      loss = loss / 50\n",
        "      print('\\r', 'Train task {} [{}] loss: {:.3f}'.format(task.name, (total_epochs + epoch + 1), loss), end = ' ')\n",
        "      losses.append(loss)\n",
        "      loss = 0.0\n",
        "  return model, optimizer, losses"
      ],
      "execution_count": null,
      "outputs": []
    },
    {
      "cell_type": "markdown",
      "metadata": {
        "id": "l16lOo3pA2KZ"
      },
      "source": [
        "## MAS Training"
      ]
    },
    {
      "cell_type": "code",
      "metadata": {
        "id": "d9FX3aq0GivR"
      },
      "source": [
        "def mas_train(model, optimizer, task, total_epochs, summary_epochs, mas_tasks, lambda_mas,alpha=0.8):\n",
        "  model.train()\n",
        "  model.zero_grad()\n",
        "  ceriation = nn.CrossEntropyLoss()\n",
        "  losses = []\n",
        "  loss = 0.0\n",
        "  for epoch in range(summary_epochs):\n",
        "    imgs, labels = next(task.train_iter)\n",
        "    imgs, labels = imgs.to(device), labels.to(device)\n",
        "    outputs = model(imgs)\n",
        "    ce_loss = ceriation(outputs, labels)\n",
        "    total_loss = ce_loss\n",
        "    mas_tasks.reverse()\n",
        "    if len(mas_tasks) > 1:\n",
        "        preprevious = 1 - alpha\n",
        "        scalars = [alpha,preprevious]\n",
        "        for mas,scalar in zip(mas_tasks[:2],scalars):\n",
        "            mas_loss = mas.penalty(model)\n",
        "            total_loss += lambda_mas * mas_loss * scalar\n",
        "    elif len(mas_tasks) == 1:\n",
        "        mas_loss = mas_tasks[0].penalty(model)\n",
        "        total_loss += lambda_mas * mas_loss\n",
        "    else:\n",
        "        pass\n",
        "    \n",
        "    optimizer.zero_grad()\n",
        "    total_loss.backward()\n",
        "    optimizer.step()\n",
        "\n",
        "    loss += total_loss.item()\n",
        "    if (epoch + 1) % 50 == 0:\n",
        "      loss = loss / 50\n",
        "      print('\\r', 'Train task {} [{}] loss: {:.3f}'.format(task.name, (total_epochs + epoch + 1), loss), end = ' ')\n",
        "      losses.append(loss)\n",
        "      loss = 0.0\n",
        "    \n",
        "  return model, optimizer, losses"
      ],
      "execution_count": null,
      "outputs": []
    },
    {
      "cell_type": "markdown",
      "metadata": {
        "id": "P5tGehiSA5Ph"
      },
      "source": [
        "## Validation"
      ]
    },
    {
      "cell_type": "code",
      "metadata": {
        "id": "xWrNjsbWqD9t"
      },
      "source": [
        "def val(model, task):\n",
        "  model.eval()\n",
        "  correct_cnt = 0\n",
        "  for imgs, labels in task.val_loader:\n",
        "    imgs, labels = imgs.to(device), labels.to(device)\n",
        "    outputs = model(imgs)\n",
        "    _, pred_label = torch.max(outputs.data, 1)\n",
        "\n",
        "    correct_cnt += (pred_label == labels.data).sum().item()\n",
        "  return correct_cnt / task.val_dataset_size"
      ],
      "execution_count": null,
      "outputs": []
    },
    {
      "cell_type": "markdown",
      "metadata": {
        "id": "Z_hfggmtA7Pn"
      },
      "source": [
        "## Main Training Process"
      ]
    },
    {
      "cell_type": "code",
      "metadata": {
        "id": "jFEN0EfVrH0a"
      },
      "source": [
        "def train_process(model, optimizer, tasks, config):\n",
        "  task_loss, acc = {}, {}\n",
        "  for task_id, task in enumerate(tasks):\n",
        "    print('\\n')\n",
        "    total_epochs = 0\n",
        "    task_loss[task.name] = []\n",
        "    acc[task.name] = []\n",
        "    \n",
        "    if config.mode == 'basic' or task_id == 0:\n",
        "      while (total_epochs < config.num_epochs):\n",
        "        model, optimizer, losses = normal_train(model, optimizer, task, total_epochs, config.summary_epochs)\n",
        "        task_loss[task.name] += losses\n",
        "      \n",
        "        for subtask in range(task_id + 1):\n",
        "          acc[tasks[subtask].name].append(val(model, tasks[subtask]))\n",
        "        \n",
        "        total_epochs += config.summary_epochs\n",
        "        if total_epochs % config.store_epochs == 0 or total_epochs >= config.num_epochs:\n",
        "          save_model(model, optimizer, config.store_model_path)\n",
        "    \n",
        "    if config.mode == 'ewc' and task_id > 0:\n",
        "      old_dataloaders = []\n",
        "      for old_task in range(task_id): # use all the val data from previous tasks\n",
        "        old_dataloaders += [tasks[old_task].val_loader]\n",
        "      ewc = EWC(model, old_dataloaders, device)\n",
        "\n",
        "      while (total_epochs < config.num_epochs):\n",
        "        model, optimizer, losses = ewc_train(model, optimizer, task, total_epochs, config.summary_epochs, ewc, config.lifelong_coeff)\n",
        "        task_loss[task.name] += losses\n",
        "\n",
        "        for subtask in range(task_id + 1):\n",
        "          acc[tasks[subtask].name].append(val(model, tasks[subtask]))\n",
        "        \n",
        "        total_epochs += config.summary_epochs\n",
        "        if total_epochs % config.store_epochs == 0 or total_epochs >= config.num_epochs:\n",
        "          save_model(model, optimizer, config.store_model_path)\n",
        "\n",
        "    if config.mode == 'mas' and task_id > 0:\n",
        "      old_dataloaders = []\n",
        "      mas_tasks = []\n",
        "      for old_task in range(task_id): \n",
        "        old_dataloaders += [tasks[old_task].val_loader]\n",
        "        mas = MAS(model, old_dataloaders, device)\n",
        "        mas_tasks += [mas]\n",
        "      while (total_epochs < config.num_epochs):\n",
        "        model, optimizer, losses = mas_train(model, optimizer, task, total_epochs, config.summary_epochs, mas_tasks, config.lifelong_coeff)\n",
        "        task_loss[task.name] +=  losses\n",
        "\n",
        "        for subtask in range(task_id + 1):\n",
        "          acc[tasks[subtask].name].append(val(model, tasks[subtask]))\n",
        "\n",
        "        total_epochs += config.summary_epochs\n",
        "        if total_epochs % config.store_epochs == 0 or total_epochs >= config.num_epochs:\n",
        "          save_model(model, optimizer, config.store_model_path)\n",
        "  \n",
        "  return task_loss, acc"
      ],
      "execution_count": null,
      "outputs": []
    },
    {
      "cell_type": "markdown",
      "metadata": {
        "id": "lATPQMrMBBaD"
      },
      "source": [
        "# **Configurations**"
      ]
    },
    {
      "cell_type": "code",
      "metadata": {
        "id": "_Bf-vaOQG1TX"
      },
      "source": [
        " class configurations(object):\n",
        "  def __init__(self):\n",
        "    self.batch_size = 256\n",
        "    self.num_epochs = 10000\n",
        "    self.store_epochs = 250\n",
        "    self.summary_epochs = 250\n",
        "    self.learning_rate = 0.0005\n",
        "    self.load_model = False\n",
        "    self.store_model_path = \"./model\"\n",
        "    self.load_model_path = \"./model\"\n",
        "    self.data_path = \"./data\"\n",
        "    self.mode = None\n",
        "    self.lifelong_coeff = 0.5"
      ],
      "execution_count": null,
      "outputs": []
    },
    {
      "cell_type": "markdown",
      "metadata": {
        "id": "cj56WtDRBFy9"
      },
      "source": [
        "# **Main**"
      ]
    },
    {
      "cell_type": "code",
      "metadata": {
        "colab": {
          "base_uri": "https://localhost:8080/",
          "height": 1000,
          "referenced_widgets": [
            "484e39fec0f74422b0f72b4d2ecc06d0",
            "8334c3909dc04b2dba67854f26d53f95",
            "a3afb4c106ac4bb2ba5cc0ae284f5c66",
            "4dd9a804bb1640f8ac85f50b20ada6a5",
            "04244ed2754b4364a3ea3e618dfed292",
            "899fbbb83947484aa76e10c43602b08a",
            "e8e9ac6d8fe24605b4e92c27d159ad81",
            "bc998dd110ba46b683c8ed074794b9f7",
            "abded1f10fb642b29d5e48535d41b1f1",
            "241bf2d8d71a41e480e64518b7a7a9a3",
            "bf684b82f67048c4b742909599efcb6b",
            "a77e216715b14e5b9f78bfe128ce78a5",
            "0975dc20a54241f48e42d05b4589afb6",
            "aaa58902dc2d4e44a0cec4ce301f2d86",
            "e2da35eb3d2e465ebed4c55dfcce4596",
            "03cd0daae0024cc6ba27d86d4aafd7c0",
            "ee5b81888a754569afd1dafd3ef3410d",
            "95fbeea2d3bf45b8a8d4e918bea51c3c",
            "5e9f48d2b4b04cd5922b18dd69654dc7",
            "5e6adc41fa7f4404b6e03445f19ebd53",
            "69434fc7d7d7465388f863d0138af01e",
            "d4d5a2ec1b414c8eacce001f68b392df",
            "126571c740324ac6b4cf4c95e2e3aa6e",
            "51841d7b42194bf89675327ed1ae054b",
            "ed32adc851fa47558da4a0b55a954aa4",
            "c8f06439ba40415398d351f90d177b2e",
            "3033c37a548e42c298a0f34bdbde5d8d",
            "b1251bd3418c447aa923f112fc9056a8",
            "676d257964c84324a4012664931c6c97",
            "53c8b27e3c664fcf92d5457205c49e51",
            "2851080db7ea419c9b84b7270c638471",
            "6c37714dc3884381a21dfc026e373ef8",
            "32ee990e7ce9496da9646550fe91937e",
            "3ee6dc7feae04c9195dbca7335d93611",
            "822232edf0f14098913f65e1bdeb1abc",
            "54f9db7706bf4c16a8670aacc0acc335",
            "2cc791c73d2440f589577b3a66cafad4",
            "a7bdfd65e30446cab38ce3327ade5d47",
            "72078be362114e4cb9e580cd98d69401",
            "e9d7e6b825354d6db033512c022d7a47",
            "b47a07867f97468480184a553acbb90b",
            "b974be9549cb4d32b58c680fb45fd01f",
            "e7d48ed5e3db43f7b215ed774253d319",
            "ad8ccfe835cd497faf85e9f167cac54c",
            "cd3a15e3351e4e25a5adf446a69b6a40",
            "fe704ed2626645b3afbd1d628886534c",
            "269a2355c36648949b68effb36d57319",
            "f42f025e1f7d4bf39da42def708c5304"
          ]
        },
        "id": "iBpVyld6G7Uz",
        "outputId": "eaecfc01-df4d-47d0-deb7-e50eb2129dbd"
      },
      "source": [
        "\"\"\"\n",
        "The training dataset order is svhn -> mnist -> usps.\n",
        "\"\"\"\n",
        "# import tqdm\n",
        "\n",
        "if __name__ == '__main__':\n",
        "  mode_list = ['mas', 'ewc', 'basic']\n",
        "\n",
        "  ## hint: 謹慎的去選擇 lambda 超參數 / ewc: 80~400, mas: 0.1 - 10\n",
        "  ############################################################################\n",
        "  #####                           TODO 區塊 （ PART 1 ）                   #####\n",
        "  ############################################################################ \n",
        "  coeff_list = [0.1, 80 ,0 ]  ## 你需要在這 微調 lambda 參數, mas, ewc, baseline=0##  \n",
        "  ############################################################################\n",
        "  #####                           TODO 區塊 （ PART 1 ）                   #####\n",
        "  ############################################################################ \n",
        "  \n",
        "  config = configurations()\n",
        "  count = 0\n",
        "  for mode in mode_list:\n",
        "    config.mode = mode\n",
        "    config.lifelong_coeff = coeff_list[count]\n",
        "    print(\"{} training\".format(config.mode))    \n",
        "    model, optimizer, tasks = build_model(config.data_path, config.batch_size, config.learning_rate)\n",
        "    print (\"Finish build model\")\n",
        "    if config.load_model:\n",
        "        model, optimizer = load_model(model, optimizer, config.load_model_path)\n",
        "    task_loss, acc = train_process(model, optimizer, tasks, config)\n",
        "    with open(f'./{config.mode}_acc.txt', 'w') as f:\n",
        "        json.dump(acc, f)\n",
        "    count += 1\n"
      ],
      "execution_count": null,
      "outputs": [
        {
          "output_type": "stream",
          "text": [
            "mas training\n",
            "Downloading http://yann.lecun.com/exdb/mnist/train-images-idx3-ubyte.gz\n",
            "Failed to download (trying next):\n",
            "HTTP Error 503: Service Unavailable\n",
            "\n",
            "Downloading https://ossci-datasets.s3.amazonaws.com/mnist/train-images-idx3-ubyte.gz\n",
            "Downloading https://ossci-datasets.s3.amazonaws.com/mnist/train-images-idx3-ubyte.gz to ./data/MNIST/MNIST/raw/train-images-idx3-ubyte.gz\n"
          ],
          "name": "stdout"
        },
        {
          "output_type": "display_data",
          "data": {
            "application/vnd.jupyter.widget-view+json": {
              "model_id": "484e39fec0f74422b0f72b4d2ecc06d0",
              "version_minor": 0,
              "version_major": 2
            },
            "text/plain": [
              "HBox(children=(FloatProgress(value=0.0, max=9912422.0), HTML(value='')))"
            ]
          },
          "metadata": {
            "tags": []
          }
        },
        {
          "output_type": "stream",
          "text": [
            "\n",
            "Extracting ./data/MNIST/MNIST/raw/train-images-idx3-ubyte.gz to ./data/MNIST/MNIST/raw\n",
            "\n",
            "Downloading http://yann.lecun.com/exdb/mnist/train-labels-idx1-ubyte.gz\n",
            "Failed to download (trying next):\n",
            "HTTP Error 503: Service Unavailable\n",
            "\n",
            "Downloading https://ossci-datasets.s3.amazonaws.com/mnist/train-labels-idx1-ubyte.gz\n",
            "Downloading https://ossci-datasets.s3.amazonaws.com/mnist/train-labels-idx1-ubyte.gz to ./data/MNIST/MNIST/raw/train-labels-idx1-ubyte.gz\n"
          ],
          "name": "stdout"
        },
        {
          "output_type": "display_data",
          "data": {
            "application/vnd.jupyter.widget-view+json": {
              "model_id": "abded1f10fb642b29d5e48535d41b1f1",
              "version_minor": 0,
              "version_major": 2
            },
            "text/plain": [
              "HBox(children=(FloatProgress(value=0.0, max=28881.0), HTML(value='')))"
            ]
          },
          "metadata": {
            "tags": []
          }
        },
        {
          "output_type": "stream",
          "text": [
            "\n",
            "Extracting ./data/MNIST/MNIST/raw/train-labels-idx1-ubyte.gz to ./data/MNIST/MNIST/raw\n",
            "\n",
            "Downloading http://yann.lecun.com/exdb/mnist/t10k-images-idx3-ubyte.gz\n",
            "Failed to download (trying next):\n",
            "HTTP Error 503: Service Unavailable\n",
            "\n",
            "Downloading https://ossci-datasets.s3.amazonaws.com/mnist/t10k-images-idx3-ubyte.gz\n",
            "Downloading https://ossci-datasets.s3.amazonaws.com/mnist/t10k-images-idx3-ubyte.gz to ./data/MNIST/MNIST/raw/t10k-images-idx3-ubyte.gz\n"
          ],
          "name": "stdout"
        },
        {
          "output_type": "display_data",
          "data": {
            "application/vnd.jupyter.widget-view+json": {
              "model_id": "ee5b81888a754569afd1dafd3ef3410d",
              "version_minor": 0,
              "version_major": 2
            },
            "text/plain": [
              "HBox(children=(FloatProgress(value=0.0, max=1648877.0), HTML(value='')))"
            ]
          },
          "metadata": {
            "tags": []
          }
        },
        {
          "output_type": "stream",
          "text": [
            "\n",
            "Extracting ./data/MNIST/MNIST/raw/t10k-images-idx3-ubyte.gz to ./data/MNIST/MNIST/raw\n",
            "\n",
            "Downloading http://yann.lecun.com/exdb/mnist/t10k-labels-idx1-ubyte.gz\n",
            "Failed to download (trying next):\n",
            "HTTP Error 503: Service Unavailable\n",
            "\n",
            "Downloading https://ossci-datasets.s3.amazonaws.com/mnist/t10k-labels-idx1-ubyte.gz\n",
            "Downloading https://ossci-datasets.s3.amazonaws.com/mnist/t10k-labels-idx1-ubyte.gz to ./data/MNIST/MNIST/raw/t10k-labels-idx1-ubyte.gz\n"
          ],
          "name": "stdout"
        },
        {
          "output_type": "display_data",
          "data": {
            "application/vnd.jupyter.widget-view+json": {
              "model_id": "ed32adc851fa47558da4a0b55a954aa4",
              "version_minor": 0,
              "version_major": 2
            },
            "text/plain": [
              "HBox(children=(FloatProgress(value=0.0, max=4542.0), HTML(value='')))"
            ]
          },
          "metadata": {
            "tags": []
          }
        },
        {
          "output_type": "stream",
          "text": [
            "\n",
            "Extracting ./data/MNIST/MNIST/raw/t10k-labels-idx1-ubyte.gz to ./data/MNIST/MNIST/raw\n",
            "\n",
            "Processing...\n",
            "Done!\n"
          ],
          "name": "stdout"
        },
        {
          "output_type": "stream",
          "text": [
            "/usr/local/lib/python3.7/dist-packages/torchvision/datasets/mnist.py:502: UserWarning: The given NumPy array is not writeable, and PyTorch does not support non-writeable tensors. This means you can write to the underlying (supposedly non-writeable) NumPy array using the tensor. You may want to copy the array to protect its data or make it writeable before converting it to a tensor. This type of warning will be suppressed for the rest of this program. (Triggered internally at  /pytorch/torch/csrc/utils/tensor_numpy.cpp:143.)\n",
            "  return torch.from_numpy(parsed.astype(m[2], copy=False)).view(*s)\n"
          ],
          "name": "stderr"
        },
        {
          "output_type": "stream",
          "text": [
            "Downloading http://ufldl.stanford.edu/housenumbers/train_32x32.mat to ./data/SVHN/train_32x32.mat\n"
          ],
          "name": "stdout"
        },
        {
          "output_type": "display_data",
          "data": {
            "application/vnd.jupyter.widget-view+json": {
              "model_id": "32ee990e7ce9496da9646550fe91937e",
              "version_minor": 0,
              "version_major": 2
            },
            "text/plain": [
              "HBox(children=(FloatProgress(value=0.0, max=182040794.0), HTML(value='')))"
            ]
          },
          "metadata": {
            "tags": []
          }
        },
        {
          "output_type": "stream",
          "text": [
            "\n",
            "Downloading https://www.csie.ntu.edu.tw/~cjlin/libsvmtools/datasets/multiclass/usps.bz2 to ./data/USPS/usps.bz2\n"
          ],
          "name": "stdout"
        },
        {
          "output_type": "display_data",
          "data": {
            "application/vnd.jupyter.widget-view+json": {
              "model_id": "b47a07867f97468480184a553acbb90b",
              "version_minor": 0,
              "version_major": 2
            },
            "text/plain": [
              "HBox(children=(FloatProgress(value=0.0, max=6579383.0), HTML(value='')))"
            ]
          },
          "metadata": {
            "tags": []
          }
        },
        {
          "output_type": "stream",
          "text": [
            "\n",
            "Finish build model\n",
            "\n",
            "\n",
            " Train task SVHN [10000] loss: 0.094 \n",
            "\n",
            "Computing MAS\n",
            " Train task MNIST [10000] loss: 0.320 \n",
            "\n",
            "Computing MAS\n",
            "Computing MAS\n",
            " Train task USPS [10000] loss: 0.152 ewc training\n",
            "Using downloaded and verified file: ./data/SVHN/train_32x32.mat\n",
            "Finish build model\n",
            "\n",
            "\n",
            " Train task SVHN [10000] loss: 0.089 \n",
            "\n",
            "Computing EWC\n",
            " Train task MNIST [10000] loss: 0.074 \n",
            "\n",
            "Computing EWC\n",
            " Train task USPS [10000] loss: 0.012 basic training\n",
            "Using downloaded and verified file: ./data/SVHN/train_32x32.mat\n",
            "Finish build model\n",
            "\n",
            "\n",
            " Train task SVHN [10000] loss: 0.088 \n",
            "\n",
            " Train task MNIST [10000] loss: 0.008 \n",
            "\n",
            " Train task USPS [10000] loss: 0.001 "
          ],
          "name": "stdout"
        }
      ]
    },
    {
      "cell_type": "markdown",
      "metadata": {
        "id": "i3tXPw-iBJYr"
      },
      "source": [
        "# **Plot the Images**"
      ]
    },
    {
      "cell_type": "code",
      "metadata": {
        "id": "gJZ957g87wHt",
        "colab": {
          "base_uri": "https://localhost:8080/",
          "height": 340
        },
        "outputId": "d043281d-4c3e-4cfa-914d-4cb2e3569b65"
      },
      "source": [
        "%matplotlib inline\n",
        "import matplotlib.pyplot as plt\n",
        "\n",
        "def plot_result(mode_list, task1, task2, task3):\n",
        "  \n",
        "  # draw the lines\n",
        "  count = 0\n",
        "  for reg_name in mode_list:\n",
        "    label = reg_name\n",
        "    with open(f'./{reg_name}_acc.txt', 'r') as f:\n",
        "      acc = json.load(f)\n",
        "    if count == 0: \n",
        "      color = 'red'\n",
        "    elif count == 1:\n",
        "      color= 'blue'\n",
        "    else:\n",
        "      color = 'purple'\n",
        "\n",
        "    ax1 = plt.subplot(3, 1, 1)\n",
        "    plt.plot(range(len(acc[task1])), acc[task1], color, label=label)\n",
        "    ax1.set_ylabel(task1)\n",
        "    ax2 = plt.subplot(3, 1, 2, sharex=ax1, sharey=ax1)\n",
        "    plt.plot(range(len(acc[task3]), len(acc[task1])), acc[task2], color,label=label)\n",
        "    ax2.set_ylabel(task2)\n",
        "    ax3 = plt.subplot(3, 1, 3, sharex=ax1, sharey=ax1)\n",
        "    ax3.set_ylabel(task3)\n",
        "    plt.plot(range(len(acc[task2]), len(acc[task1])), acc[task3], color, label=label)\n",
        "    count += 1\n",
        "  plt.ylim((0.02,1.02))\n",
        "  plt.legend()\n",
        "  plt.show()\n",
        "  return\n",
        "\n",
        "mode_list = ['ewc', 'mas', 'basic']\n",
        "plot_result(mode_list, 'SVHN', 'MNIST', 'USPS')"
      ],
      "execution_count": null,
      "outputs": [
        {
          "output_type": "stream",
          "text": [
            "/usr/local/lib/python3.7/dist-packages/ipykernel_launcher.py:19: MatplotlibDeprecationWarning: Adding an axes using the same arguments as a previous axes currently reuses the earlier instance.  In a future version, a new instance will always be created and returned.  Meanwhile, this warning can be suppressed, and the future behavior ensured, by passing a unique label to each axes instance.\n",
            "/usr/local/lib/python3.7/dist-packages/ipykernel_launcher.py:22: MatplotlibDeprecationWarning: Adding an axes using the same arguments as a previous axes currently reuses the earlier instance.  In a future version, a new instance will always be created and returned.  Meanwhile, this warning can be suppressed, and the future behavior ensured, by passing a unique label to each axes instance.\n",
            "/usr/local/lib/python3.7/dist-packages/ipykernel_launcher.py:25: MatplotlibDeprecationWarning: Adding an axes using the same arguments as a previous axes currently reuses the earlier instance.  In a future version, a new instance will always be created and returned.  Meanwhile, this warning can be suppressed, and the future behavior ensured, by passing a unique label to each axes instance.\n"
          ],
          "name": "stderr"
        },
        {
          "output_type": "display_data",
          "data": {
            "image/png": "[encoded data removed]",
            "text/plain": [
              "<Figure size 432x288 with 3 Axes>"
            ]
          },
          "metadata": {
            "tags": [],
            "needs_background": "light"
          }
        }
      ]
    }
  ]
}